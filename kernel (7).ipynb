{
  "cells": [
    {
      "metadata": {
        "_uuid": "8f2839f25d086af736a60e9eeb907d3b93b6e0e5",
        "_cell_guid": "b1076dfc-b9ad-4769-8c92-a6c4dae69d19",
        "trusted": true
      },
      "cell_type": "code",
      "source": "# This Python 3 environment comes with many helpful analytics libraries installed\n# It is defined by the kaggle/python docker image: https://github.com/kaggle/docker-python\n# For example, here's several helpful packages to load in \n\nimport numpy as np # linear algebra\nimport pandas as pd # data processing, CSV file I/O (e.g. pd.read_csv)\nimport tensorflow as tf\nimport keras\n\n# Input data files are available in the \"../input/\" directory.\n# For example, running this (by clicking run or pressing Shift+Enter) will list the files in the input directory\n\nimport os\nprint(os.listdir(\"../input\"))\n# print(os.listdir(\"../input/test\"))\n\n# Any results you write to the current directory are saved as output.",
      "execution_count": 175,
      "outputs": [
        {
          "output_type": "stream",
          "text": "['train', 'test', 'train_labels.csv', 'sample_submission.csv']\n",
          "name": "stdout"
        }
      ]
    },
    {
      "metadata": {
        "trusted": true,
        "collapsed": true,
        "_uuid": "eb022a2efc4ce840ca1c04a15a4e692b3824ed3c"
      },
      "cell_type": "code",
      "source": "TRAIN_DIR = \"../input/train\"\nTEST_DIR = \"../input/test\"\nIMG_SIZE = 64\ntraining_data = None\ntesting_data = None",
      "execution_count": 176,
      "outputs": []
    },
    {
      "metadata": {
        "_cell_guid": "79c7e3d0-c299-4dcb-8224-4455121ee9b0",
        "_uuid": "d629ff2d2480ee46fbb7e2d37f6b5fab8052498a",
        "trusted": true
      },
      "cell_type": "code",
      "source": "df = pd.read_csv(\"../input/train_labels.csv\")\nprint(df.head())\nprint(df.tail())",
      "execution_count": 177,
      "outputs": [
        {
          "output_type": "stream",
          "text": "   name  invasive\n0     1         0\n1     2         0\n2     3         1\n3     4         0\n4     5         1\n      name  invasive\n2290  2291         1\n2291  2292         1\n2292  2293         1\n2293  2294         1\n2294  2295         1\n",
          "name": "stdout"
        }
      ]
    },
    {
      "metadata": {
        "trusted": true,
        "collapsed": true,
        "_uuid": "43aa5f3a8d28d912735259abceac30567c254eee"
      },
      "cell_type": "markdown",
      "source": "# Preparing the training data"
    },
    {
      "metadata": {
        "trusted": true,
        "scrolled": true,
        "_uuid": "1a28d9f9f5c95300dacfbb70f7733d950ca0e5bb"
      },
      "cell_type": "code",
      "source": "import cv2\nimport os\nfrom random import shuffle\nfrom tqdm import tqdm_notebook\n\ndef create_train_data():\n    training_data = []\n    for img in tqdm_notebook(os.listdir(TRAIN_DIR)):\n        label = df.invasive[int(img.split('.')[0])-1]\n        path = os.path.join(TRAIN_DIR, img)\n        img = cv2.imread(path)\n        img = cv2.resize(img, (IMG_SIZE,IMG_SIZE))\n        # Normalizing the data and appending to training_data list\n        training_data.append([np.array(img/255),label])\n    shuffle(training_data)\n    return training_data\n\ndef create_test_data():\n    testing_data = []\n    for img in tqdm_notebook(os.listdir(TEST_DIR)):\n        name = img.split('.')[0]\n        path = os.path.join(TEST_DIR, img)\n        img = cv2.imread(path)\n        img = cv2.resize(img, (IMG_SIZE, IMG_SIZE))\n        testing_data.append([name, np.array(img)/255])\n    return testing_data\n    \nif training_data is None:\n    training_data = create_train_data()\n    \nif testing_data is None:\n    testing_data = create_test_data()",
      "execution_count": 178,
      "outputs": [
        {
          "output_type": "display_data",
          "data": {
            "text/plain": "A Jupyter Widget",
            "application/vnd.jupyter.widget-view+json": {
              "version_major": 2,
              "version_minor": 0,
              "model_id": "300f13c18b46475b867863d35faa69f9"
            }
          },
          "metadata": {}
        },
        {
          "output_type": "stream",
          "text": "\n",
          "name": "stdout"
        },
        {
          "output_type": "display_data",
          "data": {
            "text/plain": "A Jupyter Widget",
            "application/vnd.jupyter.widget-view+json": {
              "version_major": 2,
              "version_minor": 0,
              "model_id": "dc16620e3b2f402e8621d1634fee337d"
            }
          },
          "metadata": {}
        },
        {
          "output_type": "stream",
          "text": "\n",
          "name": "stdout"
        }
      ]
    },
    {
      "metadata": {
        "_uuid": "e21f2554822a2008b09ed934f0cc6a473b6360e8"
      },
      "cell_type": "markdown",
      "source": "# Train a CNN"
    },
    {
      "metadata": {
        "_uuid": "4c9d99078018d0ce1714f1c2bc4ad30c2acee5d3"
      },
      "cell_type": "markdown",
      "source": "## Importing required Libraries"
    },
    {
      "metadata": {
        "trusted": true,
        "_uuid": "b6308c3973ecc36e29e4d1abf77234ddb9334c39",
        "collapsed": true
      },
      "cell_type": "code",
      "source": "from keras.models import Sequential\nfrom keras.layers import Convolution2D\nfrom keras.layers import MaxPooling2D\nfrom keras.layers import Flatten\nfrom keras.layers import Dense, Dropout",
      "execution_count": 205,
      "outputs": []
    },
    {
      "metadata": {
        "trusted": true,
        "collapsed": true,
        "_uuid": "a5e35a2961ef9e7227be26ecd47f50ac4acd5c1e"
      },
      "cell_type": "code",
      "source": "# Initialising the CNN\nbatch_size = 512\nkeep_prob = 0.75\nclassifier = Sequential()",
      "execution_count": 218,
      "outputs": []
    },
    {
      "metadata": {
        "trusted": true,
        "_uuid": "921ca8d98218ad2750d85716ae6376bbc011e368"
      },
      "cell_type": "code",
      "source": "# Step 1 - Convolution\nclassifier.add(Convolution2D(64, 3, 3, input_shape = (IMG_SIZE, IMG_SIZE , 3), activation = 'relu'))\n# Step 2 - Pooling\nclassifier.add(MaxPooling2D(pool_size = (2, 2)))",
      "execution_count": 219,
      "outputs": [
        {
          "output_type": "stream",
          "text": "/opt/conda/lib/python3.6/site-packages/ipykernel_launcher.py:2: UserWarning: Update your `Conv2D` call to the Keras 2 API: `Conv2D(64, (3, 3), input_shape=(64, 64, 3..., activation=\"relu\")`\n  \n",
          "name": "stderr"
        }
      ]
    },
    {
      "metadata": {
        "trusted": true,
        "_uuid": "c8796099c89d9ddb4ff0ae96dca091eaf7e6e906"
      },
      "cell_type": "code",
      "source": "# Adding a second convolutional layer\nclassifier.add(Convolution2D(128, 3, 3, activation = 'relu'))\nclassifier.add(Dropout(keep_prob))\nclassifier.add(MaxPooling2D(pool_size = (2, 2)))\nclassifier.add(Dropout(keep_prob))",
      "execution_count": 220,
      "outputs": [
        {
          "output_type": "stream",
          "text": "/opt/conda/lib/python3.6/site-packages/ipykernel_launcher.py:2: UserWarning: Update your `Conv2D` call to the Keras 2 API: `Conv2D(128, (3, 3), activation=\"relu\")`\n  \n",
          "name": "stderr"
        }
      ]
    },
    {
      "metadata": {
        "trusted": true,
        "_uuid": "20c736080ad698943f875ec8275f1ff17aa169b3"
      },
      "cell_type": "code",
      "source": "# Step 3 - Flattening\nclassifier.add(Flatten())",
      "execution_count": 221,
      "outputs": []
    },
    {
      "metadata": {
        "trusted": true,
        "_uuid": "3ed17f95dd99010384ebac058ad421e184feeaa1",
        "collapsed": true
      },
      "cell_type": "code",
      "source": "# Step 4 - Full connection\nclassifier.add(Dense(activation='relu', units=500))\nclassifier.add(Dropout(keep_prob))\nclassifier.add(Dense(activation='relu', units=500))\nclassifier.add(Dropout(keep_prob))\nclassifier.add(Dense(activation='sigmoid', units=1))",
      "execution_count": 222,
      "outputs": []
    },
    {
      "metadata": {
        "trusted": true,
        "collapsed": true,
        "_uuid": "6958bfe8cdbd4f096118f04fc35ee4217861eea6"
      },
      "cell_type": "code",
      "source": "# Compiling the CNN\nclassifier.compile(optimizer = 'adam', loss = 'binary_crossentropy', metrics = ['accuracy'])",
      "execution_count": 223,
      "outputs": []
    },
    {
      "metadata": {
        "trusted": true,
        "collapsed": true,
        "_uuid": "7875a610ba11d0e113590d74205a5d80e128ec59"
      },
      "cell_type": "markdown",
      "source": "# Creating train and validation split"
    },
    {
      "metadata": {
        "trusted": true,
        "_uuid": "3bd42852421fb1fee4acec612e38ea90a85b277d",
        "collapsed": true
      },
      "cell_type": "code",
      "source": "split_size = 1800\ntrain = training_data[:split_size]\nvalidation = training_data[split_size:]",
      "execution_count": 224,
      "outputs": []
    },
    {
      "metadata": {
        "trusted": true,
        "_uuid": "b318311eb9977da4a9b7960067d6a0834e1845e9",
        "collapsed": true
      },
      "cell_type": "code",
      "source": "# train_x = np.array(train).transpose()[0]\n# train_y = np.array(train).transpose()[1]\n\ntrain_x = np.array([i[0] for i in train]).reshape(-1,IMG_SIZE,IMG_SIZE,3)\n# train_y = [i[1] for i in train]\ntrain_y = np.array(train).transpose()[1]\n\nvalidation_x = np.array([i[0] for i in validation]).reshape(-1,IMG_SIZE,IMG_SIZE,3)\nvalidation_y = np.array(validation).transpose()[1]\n\ntesting_x = np.array([i[1] for i in testing_data]).reshape(-1,IMG_SIZE,IMG_SIZE,3)\ntesting_name = np.array([i[0] for i in testing_data])\n# testing_x = np.array(testing_data)\n# testing_x = np.array(i for i in testing_data).reshape(-1, IMG_SIZE, IMG_SIZE, 3)",
      "execution_count": 225,
      "outputs": []
    },
    {
      "metadata": {
        "trusted": true,
        "_uuid": "f7a42218d81c8352d2d3610be2430336a3f84d53"
      },
      "cell_type": "code",
      "source": "print(train_x.shape)\nprint(validation_x.shape)\nprint(testing_x.shape)",
      "execution_count": 226,
      "outputs": [
        {
          "output_type": "stream",
          "text": "(1800, 64, 64, 3)\n(495, 64, 64, 3)\n(1531, 64, 64, 3)\n",
          "name": "stdout"
        }
      ]
    },
    {
      "metadata": {
        "trusted": true,
        "_uuid": "9f482817c043fab9d3d9002bfa9dbd178f9a1799",
        "scrolled": false
      },
      "cell_type": "code",
      "source": "# Train the model, iterating on the data in batches of 32 samples\nclassifier.fit(train_x, train_y, epochs=110, batch_size=batch_size)",
      "execution_count": 227,
      "outputs": [
        {
          "output_type": "stream",
          "text": "Epoch 1/110\n1800/1800 [==============================] - 2s 1ms/step - loss: 0.8274 - acc: 0.5522\nEpoch 2/110\n1800/1800 [==============================] - 1s 582us/step - loss: 0.6622 - acc: 0.5978\nEpoch 3/110\n1800/1800 [==============================] - 1s 588us/step - loss: 0.6351 - acc: 0.6294\nEpoch 4/110\n1800/1800 [==============================] - 1s 585us/step - loss: 0.6243 - acc: 0.6256\nEpoch 5/110\n1800/1800 [==============================] - 1s 586us/step - loss: 0.6163 - acc: 0.6328\nEpoch 6/110\n1800/1800 [==============================] - 1s 583us/step - loss: 0.5987 - acc: 0.6461\nEpoch 7/110\n1800/1800 [==============================] - 1s 585us/step - loss: 0.5868 - acc: 0.6428\nEpoch 8/110\n1800/1800 [==============================] - 1s 585us/step - loss: 0.5672 - acc: 0.6589\nEpoch 9/110\n1800/1800 [==============================] - 1s 583us/step - loss: 0.5487 - acc: 0.6844\nEpoch 10/110\n1800/1800 [==============================] - 1s 582us/step - loss: 0.5226 - acc: 0.7150\nEpoch 11/110\n1800/1800 [==============================] - 1s 589us/step - loss: 0.5207 - acc: 0.7372\nEpoch 12/110\n1800/1800 [==============================] - 1s 587us/step - loss: 0.5389 - acc: 0.7272\nEpoch 13/110\n1800/1800 [==============================] - 1s 587us/step - loss: 0.4970 - acc: 0.7756\nEpoch 14/110\n1800/1800 [==============================] - 1s 585us/step - loss: 0.4809 - acc: 0.7678\nEpoch 15/110\n1800/1800 [==============================] - 1s 585us/step - loss: 0.4643 - acc: 0.7728\nEpoch 16/110\n1800/1800 [==============================] - 1s 585us/step - loss: 0.4457 - acc: 0.7894\nEpoch 17/110\n1800/1800 [==============================] - 1s 582us/step - loss: 0.4332 - acc: 0.8106\nEpoch 18/110\n1800/1800 [==============================] - 1s 586us/step - loss: 0.4235 - acc: 0.8011\nEpoch 19/110\n1800/1800 [==============================] - 1s 583us/step - loss: 0.4215 - acc: 0.8056\nEpoch 20/110\n1800/1800 [==============================] - 1s 583us/step - loss: 0.4052 - acc: 0.8206\nEpoch 21/110\n1800/1800 [==============================] - 1s 582us/step - loss: 0.3958 - acc: 0.8289\nEpoch 22/110\n1800/1800 [==============================] - 1s 584us/step - loss: 0.3869 - acc: 0.8328\nEpoch 23/110\n1800/1800 [==============================] - 1s 585us/step - loss: 0.3879 - acc: 0.8267\nEpoch 24/110\n1800/1800 [==============================] - 1s 583us/step - loss: 0.3708 - acc: 0.8322\nEpoch 25/110\n1800/1800 [==============================] - 1s 586us/step - loss: 0.3780 - acc: 0.8372\nEpoch 26/110\n1800/1800 [==============================] - 1s 585us/step - loss: 0.3653 - acc: 0.8511\nEpoch 27/110\n1800/1800 [==============================] - 1s 584us/step - loss: 0.3529 - acc: 0.8394\nEpoch 28/110\n1800/1800 [==============================] - 1s 583us/step - loss: 0.3580 - acc: 0.8511\nEpoch 29/110\n1800/1800 [==============================] - 1s 585us/step - loss: 0.3484 - acc: 0.8461\nEpoch 30/110\n1800/1800 [==============================] - 1s 582us/step - loss: 0.3504 - acc: 0.8567\nEpoch 31/110\n1800/1800 [==============================] - 1s 583us/step - loss: 0.3264 - acc: 0.8578\nEpoch 32/110\n1800/1800 [==============================] - 1s 588us/step - loss: 0.3466 - acc: 0.8472\nEpoch 33/110\n1800/1800 [==============================] - 1s 590us/step - loss: 0.3325 - acc: 0.8578\nEpoch 34/110\n1800/1800 [==============================] - 1s 584us/step - loss: 0.3529 - acc: 0.8444\nEpoch 35/110\n1800/1800 [==============================] - 1s 584us/step - loss: 0.3126 - acc: 0.8700\nEpoch 36/110\n1800/1800 [==============================] - 1s 587us/step - loss: 0.3136 - acc: 0.8656\nEpoch 37/110\n1800/1800 [==============================] - 1s 585us/step - loss: 0.3202 - acc: 0.8628\nEpoch 38/110\n1800/1800 [==============================] - 1s 582us/step - loss: 0.2851 - acc: 0.8861\nEpoch 39/110\n1800/1800 [==============================] - 1s 596us/step - loss: 0.2990 - acc: 0.8689\nEpoch 40/110\n1800/1800 [==============================] - 1s 588us/step - loss: 0.2826 - acc: 0.8822\nEpoch 41/110\n1800/1800 [==============================] - 1s 584us/step - loss: 0.2740 - acc: 0.8922\nEpoch 42/110\n1800/1800 [==============================] - 1s 587us/step - loss: 0.2678 - acc: 0.8856\nEpoch 43/110\n1800/1800 [==============================] - 1s 586us/step - loss: 0.2747 - acc: 0.8817\nEpoch 44/110\n1800/1800 [==============================] - 1s 583us/step - loss: 0.2673 - acc: 0.8933\nEpoch 45/110\n1800/1800 [==============================] - 1s 586us/step - loss: 0.2862 - acc: 0.8717\nEpoch 46/110\n1800/1800 [==============================] - 1s 588us/step - loss: 0.3010 - acc: 0.8689\nEpoch 47/110\n1800/1800 [==============================] - 1s 589us/step - loss: 0.2615 - acc: 0.8878\nEpoch 48/110\n1800/1800 [==============================] - 1s 583us/step - loss: 0.2602 - acc: 0.8872\nEpoch 49/110\n1800/1800 [==============================] - 1s 581us/step - loss: 0.2509 - acc: 0.8917\nEpoch 50/110\n1800/1800 [==============================] - 1s 584us/step - loss: 0.2298 - acc: 0.9061\nEpoch 51/110\n1800/1800 [==============================] - 1s 587us/step - loss: 0.2727 - acc: 0.8761\nEpoch 52/110\n1800/1800 [==============================] - 1s 587us/step - loss: 0.2527 - acc: 0.8961\nEpoch 53/110\n1800/1800 [==============================] - 1s 586us/step - loss: 0.2534 - acc: 0.9044\nEpoch 54/110\n1800/1800 [==============================] - 1s 588us/step - loss: 0.2449 - acc: 0.8972\nEpoch 55/110\n1800/1800 [==============================] - 1s 584us/step - loss: 0.2353 - acc: 0.8928\nEpoch 56/110\n1800/1800 [==============================] - 1s 583us/step - loss: 0.2309 - acc: 0.9006\nEpoch 57/110\n1800/1800 [==============================] - 1s 584us/step - loss: 0.2028 - acc: 0.9139\nEpoch 58/110\n1800/1800 [==============================] - 1s 584us/step - loss: 0.2323 - acc: 0.9011\nEpoch 59/110\n1800/1800 [==============================] - 1s 584us/step - loss: 0.2153 - acc: 0.9100\nEpoch 60/110\n1800/1800 [==============================] - 1s 586us/step - loss: 0.2279 - acc: 0.9033\nEpoch 61/110\n1800/1800 [==============================] - 1s 588us/step - loss: 0.2160 - acc: 0.9094\nEpoch 62/110\n1800/1800 [==============================] - 1s 587us/step - loss: 0.1990 - acc: 0.9217\nEpoch 63/110\n1800/1800 [==============================] - 1s 583us/step - loss: 0.2316 - acc: 0.9006\nEpoch 64/110\n1800/1800 [==============================] - 1s 582us/step - loss: 0.2057 - acc: 0.9106\nEpoch 65/110\n1800/1800 [==============================] - 1s 584us/step - loss: 0.2202 - acc: 0.9006\nEpoch 66/110\n1800/1800 [==============================] - 1s 587us/step - loss: 0.1969 - acc: 0.9161\nEpoch 67/110\n1800/1800 [==============================] - 1s 585us/step - loss: 0.1990 - acc: 0.9161\nEpoch 68/110\n1800/1800 [==============================] - 1s 585us/step - loss: 0.1975 - acc: 0.9150\nEpoch 69/110\n1800/1800 [==============================] - 1s 583us/step - loss: 0.1862 - acc: 0.9183\nEpoch 70/110\n1800/1800 [==============================] - 1s 585us/step - loss: 0.1990 - acc: 0.9161\nEpoch 71/110\n1800/1800 [==============================] - 1s 586us/step - loss: 0.1744 - acc: 0.9300\nEpoch 72/110\n1800/1800 [==============================] - 1s 582us/step - loss: 0.1769 - acc: 0.9211\nEpoch 73/110\n1800/1800 [==============================] - 1s 583us/step - loss: 0.1822 - acc: 0.9278\nEpoch 74/110\n1800/1800 [==============================] - 1s 587us/step - loss: 0.2081 - acc: 0.9094\nEpoch 75/110\n1800/1800 [==============================] - 1s 585us/step - loss: 0.2122 - acc: 0.9111\nEpoch 76/110\n1800/1800 [==============================] - 1s 586us/step - loss: 0.1920 - acc: 0.9144\nEpoch 77/110\n1800/1800 [==============================] - 1s 584us/step - loss: 0.2060 - acc: 0.9106\nEpoch 78/110\n1800/1800 [==============================] - 1s 585us/step - loss: 0.1960 - acc: 0.9144\nEpoch 79/110\n1800/1800 [==============================] - 1s 582us/step - loss: 0.1868 - acc: 0.9222\nEpoch 80/110\n1800/1800 [==============================] - 1s 585us/step - loss: 0.1817 - acc: 0.9239\nEpoch 81/110\n1800/1800 [==============================] - 1s 585us/step - loss: 0.1954 - acc: 0.9144\nEpoch 82/110\n",
          "name": "stdout"
        },
        {
          "output_type": "stream",
          "text": "1800/1800 [==============================] - 1s 586us/step - loss: 0.1783 - acc: 0.9294\nEpoch 83/110\n1800/1800 [==============================] - 1s 581us/step - loss: 0.1798 - acc: 0.9250\nEpoch 84/110\n1800/1800 [==============================] - 1s 584us/step - loss: 0.1585 - acc: 0.9350\nEpoch 85/110\n1800/1800 [==============================] - 1s 582us/step - loss: 0.1665 - acc: 0.9283\nEpoch 86/110\n1800/1800 [==============================] - 1s 580us/step - loss: 0.1730 - acc: 0.9283\nEpoch 87/110\n1800/1800 [==============================] - 1s 581us/step - loss: 0.1746 - acc: 0.9322\nEpoch 88/110\n1800/1800 [==============================] - 1s 583us/step - loss: 0.1687 - acc: 0.9306\nEpoch 89/110\n1800/1800 [==============================] - 1s 587us/step - loss: 0.1598 - acc: 0.9317\nEpoch 90/110\n1800/1800 [==============================] - 1s 586us/step - loss: 0.1499 - acc: 0.9378\nEpoch 91/110\n1800/1800 [==============================] - 1s 582us/step - loss: 0.1719 - acc: 0.9300\nEpoch 92/110\n1800/1800 [==============================] - 1s 585us/step - loss: 0.1654 - acc: 0.9344\nEpoch 93/110\n1800/1800 [==============================] - 1s 582us/step - loss: 0.1592 - acc: 0.9361\nEpoch 94/110\n1800/1800 [==============================] - 1s 584us/step - loss: 0.1522 - acc: 0.9383\nEpoch 95/110\n1800/1800 [==============================] - 1s 585us/step - loss: 0.1555 - acc: 0.9317\nEpoch 96/110\n1800/1800 [==============================] - 1s 581us/step - loss: 0.1428 - acc: 0.9378\nEpoch 97/110\n1800/1800 [==============================] - 1s 579us/step - loss: 0.1598 - acc: 0.9256\nEpoch 98/110\n1800/1800 [==============================] - 1s 579us/step - loss: 0.1496 - acc: 0.9322\nEpoch 99/110\n1800/1800 [==============================] - 1s 582us/step - loss: 0.1637 - acc: 0.9317\nEpoch 100/110\n1800/1800 [==============================] - 1s 582us/step - loss: 0.1405 - acc: 0.9422\nEpoch 101/110\n1800/1800 [==============================] - 1s 583us/step - loss: 0.1572 - acc: 0.9411\nEpoch 102/110\n1800/1800 [==============================] - 1s 584us/step - loss: 0.1555 - acc: 0.9367\nEpoch 103/110\n1800/1800 [==============================] - 1s 586us/step - loss: 0.1446 - acc: 0.9383\nEpoch 104/110\n1800/1800 [==============================] - 1s 586us/step - loss: 0.1250 - acc: 0.9494\nEpoch 105/110\n1800/1800 [==============================] - 1s 581us/step - loss: 0.1295 - acc: 0.9478\nEpoch 106/110\n1800/1800 [==============================] - 1s 579us/step - loss: 0.1402 - acc: 0.9417\nEpoch 107/110\n1800/1800 [==============================] - 1s 579us/step - loss: 0.1435 - acc: 0.9433\nEpoch 108/110\n1800/1800 [==============================] - 1s 581us/step - loss: 0.1663 - acc: 0.9361\nEpoch 109/110\n1800/1800 [==============================] - 1s 583us/step - loss: 0.1661 - acc: 0.9344\nEpoch 110/110\n1800/1800 [==============================] - 1s 584us/step - loss: 0.1522 - acc: 0.9322\n",
          "name": "stdout"
        },
        {
          "output_type": "execute_result",
          "execution_count": 227,
          "data": {
            "text/plain": "<keras.callbacks.History at 0x7fdcb8faa358>"
          },
          "metadata": {}
        }
      ]
    },
    {
      "metadata": {
        "trusted": true,
        "_uuid": "87579517c798d114c13c7ceab03b025ca56cff87"
      },
      "cell_type": "code",
      "source": "score = classifier.evaluate(validation_x, validation_y, batch_size=batch_size)",
      "execution_count": 228,
      "outputs": [
        {
          "output_type": "stream",
          "text": "\r495/495 [==============================] - 0s 589us/step\n",
          "name": "stdout"
        }
      ]
    },
    {
      "metadata": {
        "trusted": true,
        "_uuid": "2ce9717a6da28f18095e75590a1f1bff5630daaf"
      },
      "cell_type": "code",
      "source": "score",
      "execution_count": 229,
      "outputs": [
        {
          "output_type": "execute_result",
          "execution_count": 229,
          "data": {
            "text/plain": "[0.2608531713485718, 0.9010100960731506]"
          },
          "metadata": {}
        }
      ]
    },
    {
      "metadata": {
        "trusted": true,
        "_uuid": "2e233a16a39968df4d4e2d281fe4a48496795122",
        "collapsed": true
      },
      "cell_type": "code",
      "source": "prediction_prob = list(classifier.predict(testing_x).transpose())[0]\nprediction_classes = classifier.predict_classes(testing_x)",
      "execution_count": 230,
      "outputs": []
    },
    {
      "metadata": {
        "trusted": true,
        "_uuid": "4124a28673e76d47e911fbe92a087ad4abfee3f8"
      },
      "cell_type": "code",
      "source": "print(type(prediction_prob))\nprint(prediction_prob)\nprint(type(prediction_classes))\nprint(prediction_classes)",
      "execution_count": 231,
      "outputs": [
        {
          "output_type": "stream",
          "text": "<class 'numpy.ndarray'>\n[0.9997687  0.4150556  0.999995   ... 0.9329339  0.01756093 0.04174454]\n<class 'numpy.ndarray'>\n[[1]\n [0]\n [1]\n ...\n [1]\n [0]\n [0]]\n",
          "name": "stdout"
        }
      ]
    },
    {
      "metadata": {
        "trusted": true,
        "_uuid": "b2f793e1651b9634a024fd1f7ed728cc044593be",
        "scrolled": true
      },
      "cell_type": "code",
      "source": "print(\"name,invasive\")\nfor i,j in zip(testing_name, prediction_prob):\n    print(str(i)+\",\"+str(j))",
      "execution_count": null,
      "outputs": []
    },
    {
      "metadata": {
        "trusted": true,
        "collapsed": true,
        "_uuid": "f6b17d64b934a70f56e083b90d245e5ce16c324a"
      },
      "cell_type": "code",
      "source": "",
      "execution_count": null,
      "outputs": []
    }
  ],
  "metadata": {
    "language_info": {
      "name": "python",
      "version": "3.6.4",
      "mimetype": "text/x-python",
      "codemirror_mode": {
        "name": "ipython",
        "version": 3
      },
      "pygments_lexer": "ipython3",
      "nbconvert_exporter": "python",
      "file_extension": ".py"
    },
    "kernelspec": {
      "display_name": "Python 3",
      "language": "python",
      "name": "python3"
    }
  },
  "nbformat": 4,
  "nbformat_minor": 1
}