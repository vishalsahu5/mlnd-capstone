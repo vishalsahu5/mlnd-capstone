{
 "cells": [
  {
   "cell_type": "markdown",
   "metadata": {
    "colab_type": "text",
    "id": "fvRyEvkvSyyA"
   },
   "source": [
    "# Download Dataset and arrange the data into folders\n",
    "\n",
    "The purpose of this notebook is to download the dataset and arrange them properly into folders so that we can easily use them for image augmentation."
   ]
  },
  {
   "cell_type": "code",
   "execution_count": null,
   "metadata": {},
   "outputs": [],
   "source": [
    "import os\n",
    "import random\n",
    "import numpy as np\n",
    "import pandas as pd\n",
    "import tensorflow as tf\n",
    "import keras"
   ]
  },
  {
   "cell_type": "code",
   "execution_count": 25,
   "metadata": {},
   "outputs": [],
   "source": [
    "os.environ['PYTHONHASHSEED'] = '0'"
   ]
  },
  {
   "cell_type": "code",
   "execution_count": null,
   "metadata": {},
   "outputs": [],
   "source": [
    "# setting the seed for numpy\n",
    "np.random.seed(2108)"
   ]
  },
  {
   "cell_type": "code",
   "execution_count": null,
   "metadata": {},
   "outputs": [],
   "source": [
    "# setting the seed for python random numbers\n",
    "random.seed(2108)"
   ]
  },
  {
   "cell_type": "code",
   "execution_count": null,
   "metadata": {},
   "outputs": [],
   "source": [
    "# setting the seed for tensorflow\n",
    "tf.set_random_seed(2108)"
   ]
  },
  {
   "cell_type": "code",
   "execution_count": null,
   "metadata": {},
   "outputs": [],
   "source": [
    "from keras import backend as K\n",
    "\n",
    "# Force tensorflow to use a single thread\n",
    "session_conf = tf.ConfigProto(intra_op_parallelism_threads=1, inter_op_parallelism_threads=1)\n",
    "sess = tf.Session(graph = tf.get_default_graph(), config=session_conf)\n",
    "K.set_session(sess)"
   ]
  },
  {
   "cell_type": "markdown",
   "metadata": {
    "colab_type": "text",
    "id": "xSPAbO_dUo6f"
   },
   "source": [
    "## Downloading the data from kaggle\n",
    "No need to do this if data is downloaded manually. I used this for downloading data into google colab."
   ]
  },
  {
   "cell_type": "markdown",
   "metadata": {
    "colab_type": "text",
    "id": "jJ_Hakl5TGO6"
   },
   "source": [
    "Upload the kaggle.json file "
   ]
  },
  {
   "cell_type": "code",
   "execution_count": null,
   "metadata": {
    "colab": {
     "autoexec": {
      "startup": false,
      "wait_interval": 0
     },
     "base_uri": "https://localhost:8080/",
     "height": 89
    },
    "colab_type": "code",
    "executionInfo": {
     "elapsed": 11095,
     "status": "ok",
     "timestamp": 1531666858808,
     "user": {
      "displayName": "Sarthak Sahu",
      "photoUrl": "//lh4.googleusercontent.com/-sCIGEEqtKU8/AAAAAAAAAAI/AAAAAAAAARc/YwR5ZCDBNeY/s50-c-k-no/photo.jpg",
      "userId": "105700230519338199981"
     },
     "user_tz": -330
    },
    "id": "6lLZ7QQ4Mma5",
    "outputId": "76aa69e1-f9c2-4a60-b830-2302e118bc43"
   },
   "outputs": [],
   "source": [
    "from google.colab import files\n",
    "files.upload()"
   ]
  },
  {
   "cell_type": "markdown",
   "metadata": {
    "colab_type": "text",
    "id": "3cyudRiWTKAq"
   },
   "source": [
    "Install kaggle api if it is not already installed"
   ]
  },
  {
   "cell_type": "code",
   "execution_count": 0,
   "metadata": {
    "colab": {
     "autoexec": {
      "startup": false,
      "wait_interval": 0
     }
    },
    "colab_type": "code",
    "id": "vaWU6yhJMuJv"
   },
   "outputs": [],
   "source": [
    "!pip install -q kaggle"
   ]
  },
  {
   "cell_type": "markdown",
   "metadata": {
    "colab_type": "text",
    "id": "NW3VGwtJTOsg"
   },
   "source": [
    "Doing some arrangements for using kaggle api. Basically, we would place kaggle.json file in directory so that kaggle script could be used to download the data"
   ]
  },
  {
   "cell_type": "code",
   "execution_count": 0,
   "metadata": {
    "colab": {
     "autoexec": {
      "startup": false,
      "wait_interval": 0
     }
    },
    "colab_type": "code",
    "id": "zrjmxmFJM7H8"
   },
   "outputs": [],
   "source": [
    "!mkdir -p ~/.kaggle\n",
    "!cp kaggle.json ~/.kaggle/\n",
    "!chmod 600 /content/.kaggle/kaggle.json"
   ]
  },
  {
   "cell_type": "markdown",
   "metadata": {
    "colab_type": "text",
    "id": "0XdJv0lETXL9"
   },
   "source": [
    "Now we download the data using the kaggle api"
   ]
  },
  {
   "cell_type": "code",
   "execution_count": 4,
   "metadata": {
    "colab": {
     "autoexec": {
      "startup": false,
      "wait_interval": 0
     },
     "base_uri": "https://localhost:8080/",
     "height": 221
    },
    "colab_type": "code",
    "executionInfo": {
     "elapsed": 40027,
     "status": "ok",
     "timestamp": 1531666911013,
     "user": {
      "displayName": "Sarthak Sahu",
      "photoUrl": "//lh4.googleusercontent.com/-sCIGEEqtKU8/AAAAAAAAAAI/AAAAAAAAARc/YwR5ZCDBNeY/s50-c-k-no/photo.jpg",
      "userId": "105700230519338199981"
     },
     "user_tz": -330
    },
    "id": "xODubZWDKT_C",
    "outputId": "2c81a41c-03ee-45b1-843a-015baeaef20f"
   },
   "outputs": [
    {
     "name": "stdout",
     "output_type": "stream",
     "text": [
      "Downloading test.7z to .\n",
      "100%|██████████████████████████████████████▉| 1.14G/1.14G [00:09<00:00, 111MB/s]\n",
      "100%|███████████████████████████████████████| 1.14G/1.14G [00:09<00:00, 124MB/s]\n",
      "Downloading train.7z to .\n",
      "100%|█████████████████████████████████████▉| 1.98G/1.98G [00:23<00:00, 49.1MB/s]\n",
      "100%|██████████████████████████████████████| 1.98G/1.98G [00:23<00:00, 89.3MB/s]\n",
      "Downloading train_labels.csv.zip to .\n",
      "  0%|                                               | 0.00/6.19k [00:00<?, ?B/s]\n",
      "100%|██████████████████████████████████████| 6.19k/6.19k [00:00<00:00, 9.45MB/s]\n",
      "Downloading sample_submission.csv.zip to .\n",
      "  0%|                                               | 0.00/4.18k [00:00<?, ?B/s]\n",
      "100%|██████████████████████████████████████| 4.18k/4.18k [00:00<00:00, 5.40MB/s]\n"
     ]
    }
   ],
   "source": [
    "!kaggle competitions download -c invasive-species-monitoring -w"
   ]
  },
  {
   "cell_type": "markdown",
   "metadata": {
    "colab_type": "text",
    "id": "xt5w0aSYTcKd"
   },
   "source": [
    "## Extracting and moving the files into directories\n",
    "\n",
    "Do not run this section if not working in google colab."
   ]
  },
  {
   "cell_type": "code",
   "execution_count": 1,
   "metadata": {
    "colab": {
     "autoexec": {
      "startup": false,
      "wait_interval": 0
     }
    },
    "colab_type": "code",
    "id": "wpEdVl61PQfw"
   },
   "outputs": [],
   "source": [
    "import os\n",
    "# os.mkdir('input')\n",
    "# os.mkdir('input/test')\n",
    "# os.mkdir('input/train')"
   ]
  },
  {
   "cell_type": "markdown",
   "metadata": {
    "colab_type": "text",
    "id": "u0uo1va5TmtU"
   },
   "source": [
    "Now we extract the files and move the files into their respective directories for better organization"
   ]
  },
  {
   "cell_type": "code",
   "execution_count": 2,
   "metadata": {
    "colab": {
     "autoexec": {
      "startup": false,
      "wait_interval": 0
     },
     "base_uri": "https://localhost:8080/",
     "height": 340
    },
    "colab_type": "code",
    "collapsed": true,
    "executionInfo": {
     "elapsed": 66863,
     "status": "ok",
     "timestamp": 1531666979742,
     "user": {
      "displayName": "Sarthak Sahu",
      "photoUrl": "//lh4.googleusercontent.com/-sCIGEEqtKU8/AAAAAAAAAAI/AAAAAAAAARc/YwR5ZCDBNeY/s50-c-k-no/photo.jpg",
      "userId": "105700230519338199981"
     },
     "user_tz": -330
    },
    "id": "ns0uFMS07JtC",
    "outputId": "8d52d62d-cec3-4462-d4ff-de2f9c8fa83e"
   },
   "outputs": [
    {
     "name": "stderr",
     "output_type": "stream",
     "text": [
      "'7z' is not recognized as an internal or external command,\n",
      "operable program or batch file.\n"
     ]
    }
   ],
   "source": [
    "!7z e test.7z -oinput/test -r"
   ]
  },
  {
   "cell_type": "code",
   "execution_count": 7,
   "metadata": {
    "colab": {
     "autoexec": {
      "startup": false,
      "wait_interval": 0
     },
     "base_uri": "https://localhost:8080/",
     "height": 306
    },
    "colab_type": "code",
    "collapsed": true,
    "executionInfo": {
     "elapsed": 147558,
     "status": "ok",
     "timestamp": 1531667127425,
     "user": {
      "displayName": "Sarthak Sahu",
      "photoUrl": "//lh4.googleusercontent.com/-sCIGEEqtKU8/AAAAAAAAAAI/AAAAAAAAARc/YwR5ZCDBNeY/s50-c-k-no/photo.jpg",
      "userId": "105700230519338199981"
     },
     "user_tz": -330
    },
    "id": "f79tmEIF8YDq",
    "outputId": "86a8bdf0-2d1d-4561-d0f8-e8ec7ad0cead"
   },
   "outputs": [
    {
     "name": "stdout",
     "output_type": "stream",
     "text": [
      "\n",
      "7-Zip [64] 16.02 : Copyright (c) 1999-2016 Igor Pavlov : 2016-05-21\n",
      "p7zip Version 16.02 (locale=en_US.UTF-8,Utf16=on,HugeFiles=on,64 bits,2 CPUs Intel(R) Xeon(R) CPU @ 2.30GHz (306F0),ASM,AES-NI)\n",
      "\n",
      "Scanning the drive for archives:\n",
      "  0M Sca        1 file, 2126278821 bytes (2028 MiB)\n",
      "\n",
      "Extracting archive: train.7z\n",
      "--\n",
      "Path = train.7z\n",
      "Type = 7z\n",
      "Physical Size = 2126278821\n",
      "Headers Size = 24792\n",
      "Method = LZMA2:24\n",
      "Solid = +\n",
      "Blocks = 2\n",
      "\n"
     ]
    },
    {
     "name": "stdout",
     "output_type": "stream",
     "text": [
      "      0%      0% 4 - train/1000.jp                        0% 8 - train/1004.jp                        0% 13 - train/1009.j                        0% 14 - train/101.jp                        0% 17 - train/1012.j                        1% 21 - train/1016.j                        1% 25 - train/102.jp                        1% 29 - train/1023.j                        1% 33 - train/1027.j                        1% 37 - train/1030.j                        1% 38 - train/1031.j                        1% 41 - train/1034.j                        2% 45 - train/1038.j                        2% 49 - train/1041.j                        2% 53 - train/1045.j                        2% 58 - train/105.jp                        2% 59 - train/1050.j                        2% 62 - train/1053.j                        3% 66 - train/1057.j                        3% 71 - train/1061.j                        3% 75 - train/1065.j                        3% 79 - train/1069.j                        3% 80 - train/107.jp                        3% 83 - train/1072.j                        3% 87 - train/1076.j                        4% 92 - train/1080.j                        4% 96 - train/1084.j                        4% 100 - train/1088.jp                          4% 101 - train/1089.jp                          4% 105 - train/1092.jp                          4% 108 - train/1095.jp                          5% 112 - train/1099.jp                          5% 116 - train/1101.jp                          5% 120 - train/1105.jp                          5% 124 - train/1109.jp                          5% 125 - train/111.j                        5% 130 - train/1114.jp                          5% 133 - train/1117.jp                          6% 137 - train/1120.jp                          6% 141 - train/1124.jp                          6% 146 - train/1129.jp                          6% 147 - train/113.j                        6% 150 - train/1132.jp                          6% 154 - train/1136.jp                          6% 158 - train/114.j                        7% 162 - train/1143.jp                          7% 166 - train/1147.jp                          7% 168 - train/1149.jp                          7% 171 - train/1151.jp                          7% 174 - train/1154.jp                          7% 179 - train/1159.jp                          8% 183 - train/1162.jp                          8% 187 - train/1166.jp                          8% 191 - train/117.j                        8% 192 - train/1170.jp                          8% 195 - train/1173.jp                          8% 200 - train/1178.jp                          9% 204 - train/1181.jp                          9% 209 - train/1186.jp                          9% 212 - train/1189.jp                          9% 213 - train/119.j                        9% 216 - train/1192.jp                          9% 221 - train/1197.jp                          9% 224 - train/12.jp                       10% 228 - train/1202.jp                         10% 233 - train/1207.jp                         10% 236 - train/121.j                       10% 237 - train/1210.jp                         10% 241 - train/1214.jp                         10% 245 - train/1218.jp                         10% 249 - train/1221.jp                         11% 254 - train/1226.jp                         11% 258 - train/123.j                       11% 262 - train/1233.jp                         11% 263 - train/1234.jp                         11% 266 - train/1237.jp                         11% 270 - train/1240.jp                         12% 274 - train/1244.jp                         12% 279 - train/1249.jp                         12% 283 - train/1252.jp                         12% 285 - train/1254.jp                         12% 287 - train/1256.jp                         12% 291 - train/126.j                       12% 296 - train/1264.jp                         13% 300 - train/1268.jp                         13% 304 - train/1271.jp                         13% 305 - train/1272.jp                         13% 309 - train/1276.jp                         13% 313 - train/128.j                       13% 318 - train/1284.jp                         14% 322 - train/1288.jp                         14% 326 - train/1291.jp                         14% 330 - train/1295.jp                         14% 331 - train/1296.jp                         14% 335 - train/13.jp                       14% 339 - train/1302.jp                         15% 343 - train/1306.jp                         15% 347 - train/131.j                       15% 351 - train/1313.jp                         15% 356 - train/1318.jp                         15% 357 - train/1319.jp                         15% 360 - train/1321.jp                         15% 364 - train/1325.jp                         16% 368 - train/1329.jp                         16% 372 - train/1332.jp                         16% 377 - train/1337.jp                         16% 378 - train/1338.jp                         16% 381 - train/1340.jp                         16% 385 - train/1344.jp                         16% 390 - train/1349.jp                         17% 394 - train/1352.jp                         17% 398 - train/1356.jp                         17% 399 - train/1357.jp                         17% 404 - train/1361.jp                         17% 407 - train/1364.jp                         17% 411 - train/1368.jp                         18% 415 - train/1371.jp                         18% 419 - train/1375.jp                         18% 423 - train/1379.jp                         18% 424 - train/138.j                       18% 427 - train/1382.jp                         18% 431 - train/1386.jp                         18% 436 - train/1390.jp                         19% 440 - train/1394.jp                         19% 444 - train/1398.jp                         19% 448 - train/1400.jp                         19% 449 - train/1401.jp                         19% 452 - train/1404.jp                         19% 456 - train/1408.jp                         20% 460 - train/1411.jp                         20% 464 - train/1415.jp                         20% 468 - train/1419.jp                         20% 469 - train/142.j                       20% 472 - train/1422.jp                         20% 477 - train/1427.jp                         20% 481 - train/1430.jp                         21% 485 - train/1434.jp                         21% 489 - train/1438.jp                         21% 490 - train/1439.jp                         21% 494 - train/1442.jp                         21% 497 - train/1445.jp                         21% 502 - train/145.j                       22% 506 - train/1453.jp                         22% 510 - train/1457.jp                         22% 514 - train/1460.jp                         22% 515 - train/1461.jp                         22% 519 - train/1465.jp                         22% 522 - train/1468.jp                         23% 526 - train/1471.jp                         23% 531 - train/1476.jp                         23% 535 - train/148.j                       23% 538 - train/1482.jp                         23% 539 - train/1483.jp                         23% 542 - train/1486.jp                         23% 546 - train/149.j                       24% 551 - train/1494.jp                         24% 555 - train/1498.jp                         24% 556 - train/1499.jp                         24% 559 - train/1500.jp                         24% 563 - train/1504.jp                         24% 568 - train/1509.jp                         24% 571 - train/1511.jp                         25% 576 - train/1516.jp                         25% 577 - train/1517.jp                         25% 580 - train/152.j                       25% 584 - train/1523.jp                         25% 588 - train/1527.jp                         25% 592 - train/1530.jp                         26% 596 - train/1534.jp                         26% 600 - train/1538.jp                         26% 602 - train/154.j                       26% 605 - train/1542.jp                         26% 609 - train/1546.jp                         26% 613 - train/155.j                       26% 617 - train/1553.jp                         27% 622 - train/1558.jp                         27% 623 - train/1559.jp                         27% 626 - train/1561.jp                         27% 631 - train/1566.jp                         27% 635 - train/157.j                       27% 639 - train/1573.jp                         27% 640 - train/1574.jp                         28% 643 - train/1577.jp                         28% 647 - train/1580.jp                         28% 652 - train/1585.jp                         28% 657 - train/159.j                       28% 662 - train/1594.jp                         28% 666 - train/1598.jp                         29% 666 - train/1598.jp                         29% 670 - train/1600.jp                         29% 674 - train/1604.jp                         29% 678 - train/1608.jp                         29% 683 - train/1612.jp                         29% 687 - train/1616.jp                         29% 688 - train/1617.jp                         30% 691 - train/162.j                       30% 695 - train/1623.jp                         30% 699 - train/1627.jp                         30% 703 - train/1630.jp                         30% 707 - train/1634.jp                         30% 709 - train/1636.jp                         31% 711 - train/1638.jp                         31% 715 - train/1641.jp                         31% 719 - train/1645.jp                         31% 723 - train/1649.jp                         31% 727 - train/1652.jp                         31% 728 - train/1653.jp                         31% 731 - train/1656.jp                         32% 735 - train/166.j                       32% 739 - train/1663.jp                         32% 744 - train/1668.jp                         32% 748 - train/1671.jp                         32% 749 - train/1672.jp                         32% 752 - train/1675.jp                         33% 755 - train/1678.jp                         33% 759 - train/1681.jp                         33% 764 - train/1686.jp                         33% 768 - train/169.j                       33% 772 - train/1693.jp                         33% 773 - train/1694.jp                         33% 777 - train/1698.jp                         34% 781 - train/1700.jp                         34% 785 - train/1704.jp                         34% 790 - train/1709.jp                         34% 794 - train/1712.jp                         34% 796 - train/1714.jp                         34% 797 - train/1715.jp                         34% 802 - train/172.j                       35% 806 - train/1723.jp                         35% 810 - train/1727.jp                         35% 812 - train/1729.jp                         35% 814 - train/1730.jp                         35% 818 - train/1734.jp                         35% 823 - train/1739.jp                         36% 826 - train/1741.jp                         36% 830 - train/1745.jp                         36% 831 - train/1746.jp                         36% 835 - train/175.j                       36% 839 - train/1753.jp                         36% 843 - train/1757.jp                         36% 847 - train/1760.jp                         37% 851 - train/1764.jp                         37% 855 - train/1768.jp                         37% 856 - train/1769.jp                         37% 860 - train/1772.jp                         37% 863 - train/1775.jp                         37% 868 - train/178.j                       38% 872 - train/1783.jp                         38% 876 - train/1787.jp                         38% 877 - train/1788.jp                         38% 880 - train/1790.jp                         38% 884 - train/1794.jp                         38% 888 - train/1798.jp                         38% 893 - train/1801.jp                         39% 897 - train/1805.jp                         39% 898 - train/1806.jp                         39% 902 - train/181.j                       39% 905 - train/1812.jp                         39% 909 - train/1816.jp                         39% 913 - train/182.j                       40% 917 - train/1823.jp                         40% 922 - train/1828.jp                         40% 923 - train/1829.jp                         40% 927 - train/1832.jp                         40% 930 - train/1835.jp                         40% 933 - train/1838.jp                         40% 938 - train/1842.jp                         41% 942 - train/1846.jp                         41% 946 - train/185.j                       41% 947 - train/1850.jp                         41% 951 - train/1854.jp                         41% 955 - train/1858.jp                         41% 959 - train/1861.jp                         42% 963 - train/1865.jp                         42% 967 - train/1869.jp                         42% 972 - train/1873.jp                         42% 973 - train/1874.jp                         42% 976 - train/1877.jp                         42% 980 - train/1880.jp                         42% 984 - train/1884.jp                         43% 988 - train/1888.jp                         43% 992 - train/1891.jp                         43% 993 - train/1892.jp                         43% 996 - train/1895.jp                         43% 1000 - train/1899.j                         43% 1004 - train/1901.j                         43% 1009 - train/1906.j                         44% 1013 - train/191.jp                         44% 1014 - train/1910.j                         44% 1017 - train/1913.j                         44% 1021 - train/1917.j                         44% 1025 - train/1920.j                         44% 1030 - train/1925.j                         45% 1034 - train/1929.j                         45% 1039 - train/1933.j                         45% 1044 - train/1938.j                         45% 1045 - train/1939.j                         45% 1049 - train/1942.j                         45% 1052 - train/1945.j                         46% 1056 - train/1949.j                         46% 1060 - train/1952.j                         46% 1065 - train/1957.j                         46% 1069 - train/1960.j                         46% 1070 - train/1961.j                         46% 1074 - train/1965.j                         47% 1077 - train/1968.j                         47% 1082 - train/1972.j                         47% 1085 - train/1975.j                         47% 1089 - train/1979.j                         47% 1093 - train/1982.j                         47% 1094 - train/1983.j                         47% 1099 - train/1988.j                         48% 1101 - train/199.jp                         48% 1106 - train/1994.j                         48% 1110 - train/1998.j                         48% 1114 - train/200.jp                         48% 1118 - train/2003.j                         48% 1119 - train/2004.j                         49% 1122 - train/2007.j                         49% 1126 - train/2010.j                         49% 1131 - train/2015.j                         49% 1135 - train/2019.j                         49% 1139 - train/2022.j                         49% 1140 - train/2023.j                         49% 1143 - train/2026.j                         50% 1148 - train/2030.j                         50% 1152 - train/2034.j                         50% 1156 - train/2038.j                         50% 1160 - train/2041.j                         50% 1161 - train/2042.j                         50% 1165 - train/2046.j                         51% 1169 - train/205.jp                         51% 1172 - train/2052.j                         51% 1176 - train/2056.j                         51% 1181 - train/2060.j                         51% 1185 - train/2064.j                         51% 1186 - train/2065.j                         51% 1190 - train/2069.j                         52% 1193 - train/2071.j                         52% 1197 - train/2075.j                         52% 1201 - train/2079.j                         52% 1205 - train/2082.j                         52% 1210 - train/2087.j                         52% 1211 - train/2088.j                         52% 1215 - train/2091.j                         53% 1218 - train/2094.j                         53% 1222 - train/2098.j                         53% 1227 - train/2101.j                         53% 1231 - train/2105.j                         53% 1235 - train/2109.j                         53% 1236 - train/211.jp                         54% 1239 - train/2112.j                         54% 1243 - train/2116.j                         54% 1248 - train/2120.j                         54% 1251 - train/2123.j                         54% 1252 - train/2124.j                         54% 1256 - train/2128.j                         54% 1260 - train/2131.j                         55% 1264 - train/2135.j                         55% 1267 - train/2138.j                         55% 1271 - train/2141.j                         55% 1272 - train/2142.j                         55% 1276 - train/2146.j                         55% 1280 - train/215.jp                         56% 1284 - train/2153.j                         56% 1288 - train/2157.j                         56% 1292 - train/2160.j                         56% 1296 - train/2164.j                         56% 1297 - train/2165.j                         56% 1300 - train/2168.j                         56% 1304 - train/2171.j                         57% 1308 - train/2175.j                         57% 1312 - train/2179.j                         57% 1313 - train/218.jp                         57% 1316 - train/2182.j                         57% 1320 - train/2186.j                         57% 1324 - train/219.jp                         57% 1328 - train/2193.j                         58% 1332 - train/2197.j                         58% 1333 - train/2198.j                         58% 1336 - train/220.jp                         58% 1340 - train/2203.j                         58% 1344 - train/2207.j                         58% 1349 - train/2211.j                         59% 1352 - train/2214.j                         59% 1354 - train/2216.j                         59% 1357 - train/2219.j                         59% 1361 - train/2222.j                         59% 1365 - train/2226.j                         59% 1369 - train/223.jp                         59% 1374 - train/2234.j                         60% 1374 - train/2234.j                         60% 1378 - train/2238.j                         60% 1383 - train/2242.j                         60% 1387 - train/2246.j                         60% 1392 - train/2250.j                         60% 1393 - train/2251.j                         60% 1395 - train/2253.j                         61% 1399 - train/2257.j                         61% 1404 - train/2261.j                         61% 1408 - train/2265.j                         61% 1409 - train/2266.j                         61% 1412 - train/2269.j                         61% 1416 - train/2272.j                         62% 1420 - train/2276.j                         62% 1424 - train/228.jp                         62% 1428 - train/2283.j                         62% 1429 - train/2284.j                         62% 1432 - train/2287.j                         62% 1436 - train/2290.j                         62% 1441 - train/2295.j                         63% 1445 - train/232.jp                         63% 1449 - train/236.jp                         63% 1452 - train/239.jp                         63% 1453 - train/24.j                       63% 1458 - train/244.jp                         63% 1462 - train/248.jp                         63% 1466 - train/251.jp                         64% 1470 - train/255.jp                         64% 1471 - train/256.jp                         64% 1476 - train/260.jp                         64% 1479 - train/263.jp                         64% 1483 - train/267.jp                         64% 1487 - train/270.jp                         65% 1491 - train/274.jp                         65% 1495 - train/278.jp                         65% 1496 - train/279.jp                         65% 1499 - train/281.jp                         65% 1504 - train/286.jp                         65% 1508 - train/29.j                       65% 1512 - train/293.jp                         66% 1516 - train/297.jp                         66% 1517 - train/298.jp                         66% 1520 - train/30.j                       66% 1525 - train/304.jp                         66% 1529 - train/308.jp                         66% 1533 - train/311.jp                         67% 1533 - train/311.jp                         67% 1537 - train/315.jp                         67% 1541 - train/319.jp                         67% 1545 - train/322.jp                         67% 1548 - train/325.jp                         67% 1552 - train/329.jp                         67% 1553 - train/33.j                       68% 1557 - train/333.jp                         68% 1561 - train/337.jp                         68% 1565 - train/340.jp                         68% 1570 - train/345.jp                         68% 1574 - train/349.jp                         68% 1575 - train/35.j                       68% 1578 - train/352.jp                         69% 1583 - train/357.jp                         69% 1587 - train/360.jp                         69% 1590 - train/363.jp                         69% 1594 - train/367.jp                         69% 1595 - train/368.jp                         69% 1599 - train/371.jp                         70% 1603 - train/375.jp                         70% 1607 - train/379.jp                         70% 1612 - train/383.jp                         70% 1613 - train/384.jp                         70% 1616 - train/387.jp                         70% 1621 - train/391.jp                         70% 1625 - train/395.jp                         71% 1629 - train/399.jp                         71% 1633 - train/401.jp                         71% 1634 - train/402.jp                         71% 1637 - train/405.jp                         71% 1641 - train/409.jp                         71% 1645 - train/412.jp                         71% 1650 - train/417.jp                         72% 1654 - train/420.jp                         72% 1658 - train/424.jp                         72% 1659 - train/425.jp                         72% 1663 - train/429.jp                         72% 1667 - train/432.jp                         72% 1671 - train/436.jp                         73% 1675 - train/44.j                       73% 1679 - train/443.jp                         73% 1680 - train/444.jp                         73% 1684 - train/448.jp                         73% 1688 - train/451.jp                         73% 1692 - train/455.jp                         73% 1696 - train/459.jp                         74% 1699 - train/461.jp                         74% 1700 - train/462.jp                         74% 1704 - train/466.jp                         74% 1708 - train/47.j                       74% 1712 - train/473.jp                         74% 1717 - train/478.jp                         74% 1718 - train/479.jp                         75% 1720 - train/480.jp                         75% 1725 - train/485.jp                         75% 1729 - train/489.jp                         75% 1733 - train/492.jp                         75% 1734 - train/493.jp                         75% 1738 - train/497.jp                         76% 1742 - train/50.j                       76% 1746 - train/503.jp                         76% 1750 - train/507.jp                         76% 1754 - train/510.jp                         76% 1755 - train/511.jp                         76% 1759 - train/515.jp                         76% 1762 - train/518.jp                         77% 1766 - train/521.jp                         77% 1770 - train/525.jp                         77% 1774 - train/529.jp                         77% 1778 - train/532.jp                         77% 1779 - train/533.jp                         77% 1783 - train/537.jp                         78% 1786 - train/54.j                       78% 1790 - train/543.jp                         78% 1794 - train/547.jp                         78% 1795 - train/548.jp                         78% 1798 - train/550.jp                         78% 1802 - train/554.jp                         78% 1806 - train/558.jp                         79% 1811 - train/562.jp                         79% 1813 - train/564.jp                         79% 1815 - train/566.jp                         79% 1819 - train/57.j                       79% 1824 - train/574.jp                         79% 1828 - train/578.jp                         79% 1833 - train/582.jp                         80% 1833 - train/582.jp                         80% 1836 - train/585.jp                         80% 1840 - train/589.jp                         80% 1845 - train/593.jp                         80% 1849 - train/597.jp                         80% 1851 - train/599.jp                         80% 1853 - train/60.j                       81% 1858 - train/604.jp                         81% 1862 - train/608.jp                         81% 1866 - train/611.jp                         81% 1871 - train/616.jp                         81% 1872 - train/617.jp                         81% 1875 - train/62.j                       82% 1878 - train/622.jp                         82% 1883 - train/627.jp                         82% 1887 - train/630.jp                         82% 1888 - train/631.jp                         82% 1891 - train/634.jp                         82% 1896 - train/639.jp                         82% 1899 - train/641.jp                         83% 1903 - train/645.jp                         83% 1907 - train/649.jp                         83% 1908 - train/65.j                       83% 1912 - train/653.jp                         83% 1916 - train/657.jp                         83% 1921 - train/661.jp                         83% 1925 - train/665.jp                         84% 1927 - train/667.jp                         84% 1928 - train/668.jp                         84% 1932 - train/671.jp                         84% 1936 - train/675.jp                         84% 1941 - train/68.j                       84% 1945 - train/683.jp                         84% 1946 - train/684.jp                         85% 1949 - train/687.jp                         85% 1954 - train/691.jp                         85% 1958 - train/695.jp                         85% 1959 - train/696.jp                         85% 1963 - train/7.jp                       85% 1966 - train/701.jp                         86% 1971 - train/706.jpg\b                         86% 1975 - train/71.j                       86% 1979 - train/713.jp                         86% 1983 - train/717.jp                         86% 1984 - train/718.jp                         86% 1988 - train/721.jp                         86% 1992 - train/725.jp                         87% 1996 - train/729.jp                         87% 2000 - train/732.jp                         87% 2004 - train/736.jp                         87% 2005 - train/737.jp                         87% 2008 - train/74.j                       87% 2013 - train/744.jp                         87% 2017 - train/748.jp                         88% 2021 - train/751.jp                         88% 2025 - train/755.jp                         88% 2026 - train/756.jp                         88% 2029 - train/759.jp                         88% 2032 - train/761.jp                         88% 2037 - train/766.jp                         89% 2041 - train/77.j                       89% 2042 - train/770.jp                         89% 2045 - train/773.jp                         89% 2049 - train/777.jp                         89% 2053 - train/780.jp                         89% 2057 - train/784.jp                         89% 2062 - train/789.jp                         90% 2066 - train/792.jp                         90% 2067 - train/793.jp                         90% 2070 - train/796.jp                         90% 2074 - train/8.jp                       90% 2078 - train/802.jp                         90% 2082 - train/806.jp                         90% 2086 - train/81.j                       91% 2086 - train/81.j                       91% 2091 - train/814.jp                         91% 2095 - train/818.jp                         91% 2100 - train/822.jp                         91% 2104 - train/826.jp                         91% 2105 - train/827.jp                         92% 2109 - train/830.jp                         92% 2112 - train/833.jp                         92% 2116 - train/837.jp                         92% 2120 - train/840.jp                         92% 2124 - train/844.jp                         92% 2128 - train/848.jp                         92% 2130 - train/85.j                       93% 213         93% 2137 - train/856.jp                         93% 2141 - train/86.j                       93% 2145 - train/863.jp                         93% 2146 - train/864.jp                         93% 2149 - train/867.jp                         93% 2153 - train/870.jp                         94% 2158 - train/875.jp                         94% 2162 - train/879.jp                         94% 2167 - train/883.jp                         94% 2168 - train/884.jp                         94% 2171 - train/887.jp                         94% 2175 - train/890.jp                         95% 2179 - train/894.jp                         95% 2183 - train/898.jp                         95% 2187 - train/900.jp                         95% 2190 - train/903.jp                         95% 2191 - train/904.jp                         95% 2195 - train/908.jp                         95% 2199 - train/911.jp                         96% 2204 - train/916.jp                         96% 2208 - train/92.j                       96% 2209 - train/920.jp                         96% 2212 - train/923.jp                         96% 2217 - train/928.jp                         96% 2221 - train/931.jp                         96% 2225 - train/935.jp                         97% 2225 - train/935.jp                         97% 2230 - train/94.j                       97% 2234 - train/943.jp                         97% 2238 - train/947.jp                         97% 2242 - train/950.jp                         97% 2246 - train/954.jp                         98% 2246 - train/954.jp                         98% 2251 - train/959.jp                         98% 2255 - train/962.jp                         98% 2259 - train/966.jp                         98% 2263 - train/97.j                       98% 2264 - train/970.jp                         98% 2267 - train/973.jp                         99% 2271 - train/977.jp                         99% 2275 - train/980.jp                         99% 2279 - train/984.jp                         99% 2280 - train/985.jp                         99% 2284 - train/989.jp                         99% 2288 - train/992.jp                         99% 2292 - train/996.jp                        Everything is Ok\n",
      "\n",
      "Folders: 1\n",
      "Files: 2295\n",
      "Size:       2309498679\n",
      "Compressed: 2126278821\n"
     ]
    }
   ],
   "source": [
    "!7z e train.7z -oinput/train -r"
   ]
  },
  {
   "cell_type": "code",
   "execution_count": 8,
   "metadata": {
    "colab": {
     "autoexec": {
      "startup": false,
      "wait_interval": 0
     },
     "base_uri": "https://localhost:8080/",
     "height": 340
    },
    "colab_type": "code",
    "collapsed": true,
    "executionInfo": {
     "elapsed": 10551,
     "status": "ok",
     "timestamp": 1531667138087,
     "user": {
      "displayName": "Sarthak Sahu",
      "photoUrl": "//lh4.googleusercontent.com/-sCIGEEqtKU8/AAAAAAAAAAI/AAAAAAAAARc/YwR5ZCDBNeY/s50-c-k-no/photo.jpg",
      "userId": "105700230519338199981"
     },
     "user_tz": -330
    },
    "id": "LBF6jAdi8gLG",
    "outputId": "87055785-6afb-4ef8-8015-0929672f0d25"
   },
   "outputs": [
    {
     "name": "stdout",
     "output_type": "stream",
     "text": [
      "\r\n",
      "7-Zip [64] 16.02 : Copyright (c) 1999-2016 Igor Pavlov : 2016-05-21\r\n",
      "p7zip Version 16.02 (locale=en_US.UTF-8,Utf16=on,HugeFiles=on,64 bits,2 CPUs Intel(R) Xeon(R) CPU @ 2.30GHz (306F0),ASM,AES-NI)\r\n",
      "\r\n",
      "Scanning the drive for archives:\r\n",
      "  0M Scan\b\b\b\b\b\b\b\b\b         \b\b\b\b\b\b\b\b\b1 file, 6341 bytes (7 KiB)\r\n",
      "\r\n",
      "Extracting archive: train_labels.csv.zip\r\n",
      "--\r\n",
      "Path = train_labels.csv.zip\r\n",
      "Type = zip\r\n",
      "Physical Size = 6341\r\n",
      "\r\n",
      "  0%\b\b\b\b    \b\b\b\bEverything is Ok\r\n",
      "\r\n",
      "Folders: 1\r\n",
      "Files: 2\r\n",
      "Size:       17836\r\n",
      "Compressed: 6341\r\n"
     ]
    }
   ],
   "source": [
    "!7z e train_labels.csv.zip -oinput -r"
   ]
  },
  {
   "cell_type": "code",
   "execution_count": 5,
   "metadata": {
    "colab": {
     "autoexec": {
      "startup": false,
      "wait_interval": 0
     },
     "base_uri": "https://localhost:8080/",
     "height": 34
    },
    "colab_type": "code",
    "executionInfo": {
     "elapsed": 2697,
     "status": "ok",
     "timestamp": 1531667140899,
     "user": {
      "displayName": "Sarthak Sahu",
      "photoUrl": "//lh4.googleusercontent.com/-sCIGEEqtKU8/AAAAAAAAAAI/AAAAAAAAARc/YwR5ZCDBNeY/s50-c-k-no/photo.jpg",
      "userId": "105700230519338199981"
     },
     "user_tz": -330
    },
    "id": "AaebL5JYm0fP",
    "outputId": "8ea52859-7a62-4791-a611-5165d89def34"
   },
   "outputs": [
    {
     "data": {
      "text/plain": [
       "['sample_submission.csv', 'test', 'train', 'train_labels.csv']"
      ]
     },
     "execution_count": 5,
     "metadata": {},
     "output_type": "execute_result"
    }
   ],
   "source": [
    "os.listdir('input')"
   ]
  },
  {
   "cell_type": "markdown",
   "metadata": {
    "colab_type": "text",
    "id": "pGIH8vftTw70"
   },
   "source": [
    "## Preparing the training dataset\n",
    "Here we will organize the images by their label name into folders. This way we can use keras for easy data augmentation."
   ]
  },
  {
   "cell_type": "code",
   "execution_count": 8,
   "metadata": {
    "colab": {
     "autoexec": {
      "startup": false,
      "wait_interval": 0
     }
    },
    "colab_type": "code",
    "id": "dsAmLkm6qdZl"
   },
   "outputs": [],
   "source": [
    "import os\n",
    "import pandas as pd\n",
    "import shutil\n",
    "\n",
    "TRAIN_DIR = 'input/train'\n",
    "INVASIVE_DIR = 'input/train/invasive/'\n",
    "NON_INVASIVE_DIR = 'input/train/non-invasive/'\n",
    "\n",
    "os.mkdir(INVASIVE_DIR)\n",
    "os.mkdir(NON_INVASIVE_DIR)\n",
    "\n",
    "df = pd.read_csv('input/train_labels.csv')\n",
    "\n",
    "for img in os.listdir(TRAIN_DIR):\n",
    "    PATH = os.path.join(TRAIN_DIR, img)\n",
    "    if os.path.isdir(PATH):\n",
    "        continue\n",
    "    label = df.invasive[int(img.split('.')[0])-1]\n",
    "    if label == 0:\n",
    "        shutil.copy2(PATH, NON_INVASIVE_DIR)\n",
    "    elif label == 1:\n",
    "        shutil.copy2(PATH, INVASIVE_DIR)"
   ]
  },
  {
   "cell_type": "code",
   "execution_count": 10,
   "metadata": {
    "colab": {
     "autoexec": {
      "startup": false,
      "wait_interval": 0
     },
     "base_uri": "https://localhost:8080/",
     "height": 68
    },
    "colab_type": "code",
    "executionInfo": {
     "elapsed": 3106,
     "status": "ok",
     "timestamp": 1531667166588,
     "user": {
      "displayName": "Sarthak Sahu",
      "photoUrl": "//lh4.googleusercontent.com/-sCIGEEqtKU8/AAAAAAAAAAI/AAAAAAAAARc/YwR5ZCDBNeY/s50-c-k-no/photo.jpg",
      "userId": "105700230519338199981"
     },
     "user_tz": -330
    },
    "id": "IShcUcm0GCGx",
    "outputId": "0dba0dff-7625-456b-b2ee-cb5a2148179b"
   },
   "outputs": [
    {
     "name": "stdout",
     "output_type": "stream",
     "text": [
      "2295\n",
      "847\n",
      "1448\n"
     ]
    }
   ],
   "source": [
    "print(len(os.listdir(NON_INVASIVE_DIR))+len(os.listdir(INVASIVE_DIR)))\n",
    "print(len(os.listdir(NON_INVASIVE_DIR)))\n",
    "print(len(os.listdir(INVASIVE_DIR)))"
   ]
  },
  {
   "cell_type": "code",
   "execution_count": 11,
   "metadata": {
    "colab": {
     "autoexec": {
      "startup": false,
      "wait_interval": 0
     },
     "base_uri": "https://localhost:8080/",
     "height": 5610
    },
    "colab_type": "code",
    "collapsed": true,
    "executionInfo": {
     "elapsed": 2885,
     "status": "ok",
     "timestamp": 1531667169610,
     "user": {
      "displayName": "Sarthak Sahu",
      "photoUrl": "//lh4.googleusercontent.com/-sCIGEEqtKU8/AAAAAAAAAAI/AAAAAAAAARc/YwR5ZCDBNeY/s50-c-k-no/photo.jpg",
      "userId": "105700230519338199981"
     },
     "user_tz": -330
    },
    "id": "LY-Y4LtiNTLs",
    "outputId": "23cc857a-edf0-4f2d-b095-442ab6b8c42a"
   },
   "outputs": [
    {
     "data": {
      "text/plain": [
       "['1.jpg',\n",
       " '10.jpg',\n",
       " '100.jpg',\n",
       " '1000.jpg',\n",
       " '1001.jpg',\n",
       " '1002.jpg',\n",
       " '1003.jpg',\n",
       " '1004.jpg',\n",
       " '1005.jpg',\n",
       " '1006.jpg',\n",
       " '1007.jpg',\n",
       " '1008.jpg',\n",
       " '1009.jpg',\n",
       " '101.jpg',\n",
       " '1010.jpg',\n",
       " '1011.jpg',\n",
       " '1012.jpg',\n",
       " '1013.jpg',\n",
       " '1014.jpg',\n",
       " '1015.jpg',\n",
       " '1016.jpg',\n",
       " '1017.jpg',\n",
       " '1018.jpg',\n",
       " '1019.jpg',\n",
       " '102.jpg',\n",
       " '1020.jpg',\n",
       " '1021.jpg',\n",
       " '1022.jpg',\n",
       " '1023.jpg',\n",
       " '1024.jpg',\n",
       " '1025.jpg',\n",
       " '1026.jpg',\n",
       " '1027.jpg',\n",
       " '1028.jpg',\n",
       " '1029.jpg',\n",
       " '103.jpg',\n",
       " '1030.jpg',\n",
       " '1031.jpg',\n",
       " '1032.jpg',\n",
       " '1033.jpg',\n",
       " '1034.jpg',\n",
       " '1035.jpg',\n",
       " '1036.jpg',\n",
       " '1037.jpg',\n",
       " '1038.jpg',\n",
       " '1039.jpg',\n",
       " '104.jpg',\n",
       " '1040.jpg',\n",
       " '1041.jpg',\n",
       " '1042.jpg',\n",
       " '1043.jpg',\n",
       " '1044.jpg',\n",
       " '1045.jpg',\n",
       " '1046.jpg',\n",
       " '1047.jpg',\n",
       " '1048.jpg',\n",
       " '1049.jpg',\n",
       " '105.jpg',\n",
       " '1050.jpg',\n",
       " '1051.jpg',\n",
       " '1052.jpg',\n",
       " '1053.jpg',\n",
       " '1054.jpg',\n",
       " '1055.jpg',\n",
       " '1056.jpg',\n",
       " '1057.jpg',\n",
       " '1058.jpg',\n",
       " '1059.jpg',\n",
       " '106.jpg',\n",
       " '1060.jpg',\n",
       " '1061.jpg',\n",
       " '1062.jpg',\n",
       " '1063.jpg',\n",
       " '1064.jpg',\n",
       " '1065.jpg',\n",
       " '1066.jpg',\n",
       " '1067.jpg',\n",
       " '1068.jpg',\n",
       " '1069.jpg',\n",
       " '107.jpg',\n",
       " '1070.jpg',\n",
       " '1071.jpg',\n",
       " '1072.jpg',\n",
       " '1073.jpg',\n",
       " '1074.jpg',\n",
       " '1075.jpg',\n",
       " '1076.jpg',\n",
       " '1077.jpg',\n",
       " '1078.jpg',\n",
       " '1079.jpg',\n",
       " '108.jpg',\n",
       " '1080.jpg',\n",
       " '1081.jpg',\n",
       " '1082.jpg',\n",
       " '1083.jpg',\n",
       " '1084.jpg',\n",
       " '1085.jpg',\n",
       " '1086.jpg',\n",
       " '1087.jpg',\n",
       " '1088.jpg',\n",
       " '1089.jpg',\n",
       " '109.jpg',\n",
       " '1090.jpg',\n",
       " '1091.jpg',\n",
       " '1092.jpg',\n",
       " '1093.jpg',\n",
       " '1094.jpg',\n",
       " '1095.jpg',\n",
       " '1096.jpg',\n",
       " '1097.jpg',\n",
       " '1098.jpg',\n",
       " '1099.jpg',\n",
       " '11.jpg',\n",
       " '110.jpg',\n",
       " '1100.jpg',\n",
       " '1101.jpg',\n",
       " '1102.jpg',\n",
       " '1103.jpg',\n",
       " '1104.jpg',\n",
       " '1105.jpg',\n",
       " '1106.jpg',\n",
       " '1107.jpg',\n",
       " '1108.jpg',\n",
       " '1109.jpg',\n",
       " '111.jpg',\n",
       " '1110.jpg',\n",
       " '1111.jpg',\n",
       " '1112.jpg',\n",
       " '1113.jpg',\n",
       " '1114.jpg',\n",
       " '1115.jpg',\n",
       " '1116.jpg',\n",
       " '1117.jpg',\n",
       " '1118.jpg',\n",
       " '1119.jpg',\n",
       " '112.jpg',\n",
       " '1120.jpg',\n",
       " '1121.jpg',\n",
       " '1122.jpg',\n",
       " '1123.jpg',\n",
       " '1124.jpg',\n",
       " '1125.jpg',\n",
       " '1126.jpg',\n",
       " '1127.jpg',\n",
       " '1128.jpg',\n",
       " '1129.jpg',\n",
       " '113.jpg',\n",
       " '1130.jpg',\n",
       " '1131.jpg',\n",
       " '1132.jpg',\n",
       " '1133.jpg',\n",
       " '1134.jpg',\n",
       " '1135.jpg',\n",
       " '1136.jpg',\n",
       " '1137.jpg',\n",
       " '1138.jpg',\n",
       " '1139.jpg',\n",
       " '114.jpg',\n",
       " '1140.jpg',\n",
       " '1141.jpg',\n",
       " '1142.jpg',\n",
       " '1143.jpg',\n",
       " '1144.jpg',\n",
       " '1145.jpg',\n",
       " '1146.jpg',\n",
       " '1147.jpg',\n",
       " '1148.jpg',\n",
       " '1149.jpg',\n",
       " '115.jpg',\n",
       " '1150.jpg',\n",
       " '1151.jpg',\n",
       " '1152.jpg',\n",
       " '1153.jpg',\n",
       " '1154.jpg',\n",
       " '1155.jpg',\n",
       " '1156.jpg',\n",
       " '1157.jpg',\n",
       " '1158.jpg',\n",
       " '1159.jpg',\n",
       " '116.jpg',\n",
       " '1160.jpg',\n",
       " '1161.jpg',\n",
       " '1162.jpg',\n",
       " '1163.jpg',\n",
       " '1164.jpg',\n",
       " '1165.jpg',\n",
       " '1166.jpg',\n",
       " '1167.jpg',\n",
       " '1168.jpg',\n",
       " '1169.jpg',\n",
       " '117.jpg',\n",
       " '1170.jpg',\n",
       " '1171.jpg',\n",
       " '1172.jpg',\n",
       " '1173.jpg',\n",
       " '1174.jpg',\n",
       " '1175.jpg',\n",
       " '1176.jpg',\n",
       " '1177.jpg',\n",
       " '1178.jpg',\n",
       " '1179.jpg',\n",
       " '118.jpg',\n",
       " '1180.jpg',\n",
       " '1181.jpg',\n",
       " '1182.jpg',\n",
       " '1183.jpg',\n",
       " '1184.jpg',\n",
       " '1185.jpg',\n",
       " '1186.jpg',\n",
       " '1187.jpg',\n",
       " '1188.jpg',\n",
       " '1189.jpg',\n",
       " '119.jpg',\n",
       " '1190.jpg',\n",
       " '1191.jpg',\n",
       " '1192.jpg',\n",
       " '1193.jpg',\n",
       " '1194.jpg',\n",
       " '1195.jpg',\n",
       " '1196.jpg',\n",
       " '1197.jpg',\n",
       " '1198.jpg',\n",
       " '1199.jpg',\n",
       " '12.jpg',\n",
       " '120.jpg',\n",
       " '1200.jpg',\n",
       " '1201.jpg',\n",
       " '1202.jpg',\n",
       " '1203.jpg',\n",
       " '1204.jpg',\n",
       " '1205.jpg',\n",
       " '1206.jpg',\n",
       " '1207.jpg',\n",
       " '1208.jpg',\n",
       " '1209.jpg',\n",
       " '121.jpg',\n",
       " '1210.jpg',\n",
       " '1211.jpg',\n",
       " '1212.jpg',\n",
       " '1213.jpg',\n",
       " '1214.jpg',\n",
       " '1215.jpg',\n",
       " '1216.jpg',\n",
       " '1217.jpg',\n",
       " '1218.jpg',\n",
       " '1219.jpg',\n",
       " '122.jpg',\n",
       " '1220.jpg',\n",
       " '1221.jpg',\n",
       " '1222.jpg',\n",
       " '1223.jpg',\n",
       " '1224.jpg',\n",
       " '1225.jpg',\n",
       " '1226.jpg',\n",
       " '1227.jpg',\n",
       " '1228.jpg',\n",
       " '1229.jpg',\n",
       " '123.jpg',\n",
       " '1230.jpg',\n",
       " '1231.jpg',\n",
       " '1232.jpg',\n",
       " '1233.jpg',\n",
       " '1234.jpg',\n",
       " '1235.jpg',\n",
       " '1236.jpg',\n",
       " '1237.jpg',\n",
       " '1238.jpg',\n",
       " '1239.jpg',\n",
       " '124.jpg',\n",
       " '1240.jpg',\n",
       " '1241.jpg',\n",
       " '1242.jpg',\n",
       " '1243.jpg',\n",
       " '1244.jpg',\n",
       " '1245.jpg',\n",
       " '1246.jpg',\n",
       " '1247.jpg',\n",
       " '1248.jpg',\n",
       " '1249.jpg',\n",
       " '125.jpg',\n",
       " '1250.jpg',\n",
       " '1251.jpg',\n",
       " '1252.jpg',\n",
       " '1253.jpg',\n",
       " '1254.jpg',\n",
       " '1255.jpg',\n",
       " '1256.jpg',\n",
       " '1257.jpg',\n",
       " '1258.jpg',\n",
       " '1259.jpg',\n",
       " '126.jpg',\n",
       " '1260.jpg',\n",
       " '1261.jpg',\n",
       " '1262.jpg',\n",
       " '1263.jpg',\n",
       " '1264.jpg',\n",
       " '1265.jpg',\n",
       " '1266.jpg',\n",
       " '1267.jpg',\n",
       " '1268.jpg',\n",
       " '1269.jpg',\n",
       " '127.jpg',\n",
       " '1270.jpg',\n",
       " '1271.jpg',\n",
       " '1272.jpg',\n",
       " '1273.jpg',\n",
       " '1274.jpg',\n",
       " '1275.jpg',\n",
       " '1276.jpg',\n",
       " '1277.jpg',\n",
       " '1278.jpg',\n",
       " '1279.jpg',\n",
       " '128.jpg',\n",
       " '1280.jpg',\n",
       " '1281.jpg',\n",
       " '1282.jpg',\n",
       " '1283.jpg',\n",
       " '1284.jpg',\n",
       " '1285.jpg',\n",
       " '1286.jpg',\n",
       " '1287.jpg',\n",
       " '1288.jpg',\n",
       " '1289.jpg',\n",
       " '129.jpg',\n",
       " '1290.jpg',\n",
       " '1291.jpg',\n",
       " '1292.jpg',\n",
       " '1293.jpg',\n",
       " '1294.jpg',\n",
       " '1295.jpg',\n",
       " '1296.jpg',\n",
       " '1297.jpg',\n",
       " '1298.jpg',\n",
       " '1299.jpg',\n",
       " '13.jpg',\n",
       " '130.jpg',\n",
       " '1300.jpg',\n",
       " '1301.jpg',\n",
       " '1302.jpg',\n",
       " '1303.jpg',\n",
       " '1304.jpg',\n",
       " '1305.jpg',\n",
       " '1306.jpg',\n",
       " '1307.jpg',\n",
       " '1308.jpg',\n",
       " '1309.jpg',\n",
       " '131.jpg',\n",
       " '1310.jpg',\n",
       " '1311.jpg',\n",
       " '1312.jpg',\n",
       " '1313.jpg',\n",
       " '1314.jpg',\n",
       " '1315.jpg',\n",
       " '1316.jpg',\n",
       " '1317.jpg',\n",
       " '1318.jpg',\n",
       " '1319.jpg',\n",
       " '132.jpg',\n",
       " '1320.jpg',\n",
       " '1321.jpg',\n",
       " '1322.jpg',\n",
       " '1323.jpg',\n",
       " '1324.jpg',\n",
       " '1325.jpg',\n",
       " '1326.jpg',\n",
       " '1327.jpg',\n",
       " '1328.jpg',\n",
       " '1329.jpg',\n",
       " '133.jpg',\n",
       " '1330.jpg',\n",
       " '1331.jpg',\n",
       " '1332.jpg',\n",
       " '1333.jpg',\n",
       " '1334.jpg',\n",
       " '1335.jpg',\n",
       " '1336.jpg',\n",
       " '1337.jpg',\n",
       " '1338.jpg',\n",
       " '1339.jpg',\n",
       " '134.jpg',\n",
       " '1340.jpg',\n",
       " '1341.jpg',\n",
       " '1342.jpg',\n",
       " '1343.jpg',\n",
       " '1344.jpg',\n",
       " '1345.jpg',\n",
       " '1346.jpg',\n",
       " '1347.jpg',\n",
       " '1348.jpg',\n",
       " '1349.jpg',\n",
       " '135.jpg',\n",
       " '1350.jpg',\n",
       " '1351.jpg',\n",
       " '1352.jpg',\n",
       " '1353.jpg',\n",
       " '1354.jpg',\n",
       " '1355.jpg',\n",
       " '1356.jpg',\n",
       " '1357.jpg',\n",
       " '1358.jpg',\n",
       " '1359.jpg',\n",
       " '136.jpg',\n",
       " '1360.jpg',\n",
       " '1361.jpg',\n",
       " '1362.jpg',\n",
       " '1363.jpg',\n",
       " '1364.jpg',\n",
       " '1365.jpg',\n",
       " '1366.jpg',\n",
       " '1367.jpg',\n",
       " '1368.jpg',\n",
       " '1369.jpg',\n",
       " '137.jpg',\n",
       " '1370.jpg',\n",
       " '1371.jpg',\n",
       " '1372.jpg',\n",
       " '1373.jpg',\n",
       " '1374.jpg',\n",
       " '1375.jpg',\n",
       " '1376.jpg',\n",
       " '1377.jpg',\n",
       " '1378.jpg',\n",
       " '1379.jpg',\n",
       " '138.jpg',\n",
       " '1380.jpg',\n",
       " '1381.jpg',\n",
       " '1382.jpg',\n",
       " '1383.jpg',\n",
       " '1384.jpg',\n",
       " '1385.jpg',\n",
       " '1386.jpg',\n",
       " '1387.jpg',\n",
       " '1388.jpg',\n",
       " '1389.jpg',\n",
       " '139.jpg',\n",
       " '1390.jpg',\n",
       " '1391.jpg',\n",
       " '1392.jpg',\n",
       " '1393.jpg',\n",
       " '1394.jpg',\n",
       " '1395.jpg',\n",
       " '1396.jpg',\n",
       " '1397.jpg',\n",
       " '1398.jpg',\n",
       " '1399.jpg',\n",
       " '14.jpg',\n",
       " '140.jpg',\n",
       " '1400.jpg',\n",
       " '1401.jpg',\n",
       " '1402.jpg',\n",
       " '1403.jpg',\n",
       " '1404.jpg',\n",
       " '1405.jpg',\n",
       " '1406.jpg',\n",
       " '1407.jpg',\n",
       " '1408.jpg',\n",
       " '1409.jpg',\n",
       " '141.jpg',\n",
       " '1410.jpg',\n",
       " '1411.jpg',\n",
       " '1412.jpg',\n",
       " '1413.jpg',\n",
       " '1414.jpg',\n",
       " '1415.jpg',\n",
       " '1416.jpg',\n",
       " '1417.jpg',\n",
       " '1418.jpg',\n",
       " '1419.jpg',\n",
       " '142.jpg',\n",
       " '1420.jpg',\n",
       " '1421.jpg',\n",
       " '1422.jpg',\n",
       " '1423.jpg',\n",
       " '1424.jpg',\n",
       " '1425.jpg',\n",
       " '1426.jpg',\n",
       " '1427.jpg',\n",
       " '1428.jpg',\n",
       " '1429.jpg',\n",
       " '143.jpg',\n",
       " '1430.jpg',\n",
       " '1431.jpg',\n",
       " '1432.jpg',\n",
       " '1433.jpg',\n",
       " '1434.jpg',\n",
       " '1435.jpg',\n",
       " '1436.jpg',\n",
       " '1437.jpg',\n",
       " '1438.jpg',\n",
       " '1439.jpg',\n",
       " '144.jpg',\n",
       " '1440.jpg',\n",
       " '1441.jpg',\n",
       " '1442.jpg',\n",
       " '1443.jpg',\n",
       " '1444.jpg',\n",
       " '1445.jpg',\n",
       " '1446.jpg',\n",
       " '1447.jpg',\n",
       " '1448.jpg',\n",
       " '1449.jpg',\n",
       " '145.jpg',\n",
       " '1450.jpg',\n",
       " '1451.jpg',\n",
       " '1452.jpg',\n",
       " '1453.jpg',\n",
       " '1454.jpg',\n",
       " '1455.jpg',\n",
       " '1456.jpg',\n",
       " '1457.jpg',\n",
       " '1458.jpg',\n",
       " '1459.jpg',\n",
       " '146.jpg',\n",
       " '1460.jpg',\n",
       " '1461.jpg',\n",
       " '1462.jpg',\n",
       " '1463.jpg',\n",
       " '1464.jpg',\n",
       " '1465.jpg',\n",
       " '1466.jpg',\n",
       " '1467.jpg',\n",
       " '1468.jpg',\n",
       " '1469.jpg',\n",
       " '147.jpg',\n",
       " '1470.jpg',\n",
       " '1471.jpg',\n",
       " '1472.jpg',\n",
       " '1473.jpg',\n",
       " '1474.jpg',\n",
       " '1475.jpg',\n",
       " '1476.jpg',\n",
       " '1477.jpg',\n",
       " '1478.jpg',\n",
       " '1479.jpg',\n",
       " '148.jpg',\n",
       " '1480.jpg',\n",
       " '1481.jpg',\n",
       " '1482.jpg',\n",
       " '1483.jpg',\n",
       " '1484.jpg',\n",
       " '1485.jpg',\n",
       " '1486.jpg',\n",
       " '1487.jpg',\n",
       " '1488.jpg',\n",
       " '1489.jpg',\n",
       " '149.jpg',\n",
       " '1490.jpg',\n",
       " '1491.jpg',\n",
       " '1492.jpg',\n",
       " '1493.jpg',\n",
       " '1494.jpg',\n",
       " '1495.jpg',\n",
       " '1496.jpg',\n",
       " '1497.jpg',\n",
       " '1498.jpg',\n",
       " '1499.jpg',\n",
       " '15.jpg',\n",
       " '150.jpg',\n",
       " '1500.jpg',\n",
       " '1501.jpg',\n",
       " '1502.jpg',\n",
       " '1503.jpg',\n",
       " '1504.jpg',\n",
       " '1505.jpg',\n",
       " '1506.jpg',\n",
       " '1507.jpg',\n",
       " '1508.jpg',\n",
       " '1509.jpg',\n",
       " '151.jpg',\n",
       " '1510.jpg',\n",
       " '1511.jpg',\n",
       " '1512.jpg',\n",
       " '1513.jpg',\n",
       " '1514.jpg',\n",
       " '1515.jpg',\n",
       " '1516.jpg',\n",
       " '1517.jpg',\n",
       " '1518.jpg',\n",
       " '1519.jpg',\n",
       " '152.jpg',\n",
       " '1520.jpg',\n",
       " '1521.jpg',\n",
       " '1522.jpg',\n",
       " '1523.jpg',\n",
       " '1524.jpg',\n",
       " '1525.jpg',\n",
       " '1526.jpg',\n",
       " '1527.jpg',\n",
       " '1528.jpg',\n",
       " '1529.jpg',\n",
       " '153.jpg',\n",
       " '1530.jpg',\n",
       " '1531.jpg',\n",
       " '1532.jpg',\n",
       " '1533.jpg',\n",
       " '1534.jpg',\n",
       " '1535.jpg',\n",
       " '1536.jpg',\n",
       " '1537.jpg',\n",
       " '1538.jpg',\n",
       " '1539.jpg',\n",
       " '154.jpg',\n",
       " '1540.jpg',\n",
       " '1541.jpg',\n",
       " '1542.jpg',\n",
       " '1543.jpg',\n",
       " '1544.jpg',\n",
       " '1545.jpg',\n",
       " '1546.jpg',\n",
       " '1547.jpg',\n",
       " '1548.jpg',\n",
       " '1549.jpg',\n",
       " '155.jpg',\n",
       " '1550.jpg',\n",
       " '1551.jpg',\n",
       " '1552.jpg',\n",
       " '1553.jpg',\n",
       " '1554.jpg',\n",
       " '1555.jpg',\n",
       " '1556.jpg',\n",
       " '1557.jpg',\n",
       " '1558.jpg',\n",
       " '1559.jpg',\n",
       " '156.jpg',\n",
       " '1560.jpg',\n",
       " '1561.jpg',\n",
       " '1562.jpg',\n",
       " '1563.jpg',\n",
       " '1564.jpg',\n",
       " '1565.jpg',\n",
       " '1566.jpg',\n",
       " '1567.jpg',\n",
       " '1568.jpg',\n",
       " '1569.jpg',\n",
       " '157.jpg',\n",
       " '1570.jpg',\n",
       " '1571.jpg',\n",
       " '1572.jpg',\n",
       " '1573.jpg',\n",
       " '1574.jpg',\n",
       " '1575.jpg',\n",
       " '1576.jpg',\n",
       " '1577.jpg',\n",
       " '1578.jpg',\n",
       " '1579.jpg',\n",
       " '158.jpg',\n",
       " '1580.jpg',\n",
       " '1581.jpg',\n",
       " '1582.jpg',\n",
       " '1583.jpg',\n",
       " '1584.jpg',\n",
       " '1585.jpg',\n",
       " '1586.jpg',\n",
       " '1587.jpg',\n",
       " '1588.jpg',\n",
       " '1589.jpg',\n",
       " '159.jpg',\n",
       " '1590.jpg',\n",
       " '1591.jpg',\n",
       " '1592.jpg',\n",
       " '1593.jpg',\n",
       " '1594.jpg',\n",
       " '1595.jpg',\n",
       " '1596.jpg',\n",
       " '1597.jpg',\n",
       " '1598.jpg',\n",
       " '1599.jpg',\n",
       " '16.jpg',\n",
       " '160.jpg',\n",
       " '1600.jpg',\n",
       " '1601.jpg',\n",
       " '1602.jpg',\n",
       " '1603.jpg',\n",
       " '1604.jpg',\n",
       " '1605.jpg',\n",
       " '1606.jpg',\n",
       " '1607.jpg',\n",
       " '1608.jpg',\n",
       " '1609.jpg',\n",
       " '161.jpg',\n",
       " '1610.jpg',\n",
       " '1611.jpg',\n",
       " '1612.jpg',\n",
       " '1613.jpg',\n",
       " '1614.jpg',\n",
       " '1615.jpg',\n",
       " '1616.jpg',\n",
       " '1617.jpg',\n",
       " '1618.jpg',\n",
       " '1619.jpg',\n",
       " '162.jpg',\n",
       " '1620.jpg',\n",
       " '1621.jpg',\n",
       " '1622.jpg',\n",
       " '1623.jpg',\n",
       " '1624.jpg',\n",
       " '1625.jpg',\n",
       " '1626.jpg',\n",
       " '1627.jpg',\n",
       " '1628.jpg',\n",
       " '1629.jpg',\n",
       " '163.jpg',\n",
       " '1630.jpg',\n",
       " '1631.jpg',\n",
       " '1632.jpg',\n",
       " '1633.jpg',\n",
       " '1634.jpg',\n",
       " '1635.jpg',\n",
       " '1636.jpg',\n",
       " '1637.jpg',\n",
       " '1638.jpg',\n",
       " '1639.jpg',\n",
       " '164.jpg',\n",
       " '1640.jpg',\n",
       " '1641.jpg',\n",
       " '1642.jpg',\n",
       " '1643.jpg',\n",
       " '1644.jpg',\n",
       " '1645.jpg',\n",
       " '1646.jpg',\n",
       " '1647.jpg',\n",
       " '1648.jpg',\n",
       " '1649.jpg',\n",
       " '165.jpg',\n",
       " '1650.jpg',\n",
       " '1651.jpg',\n",
       " '1652.jpg',\n",
       " '1653.jpg',\n",
       " '1654.jpg',\n",
       " '1655.jpg',\n",
       " '1656.jpg',\n",
       " '1657.jpg',\n",
       " '1658.jpg',\n",
       " '1659.jpg',\n",
       " '166.jpg',\n",
       " '1660.jpg',\n",
       " '1661.jpg',\n",
       " '1662.jpg',\n",
       " '1663.jpg',\n",
       " '1664.jpg',\n",
       " '1665.jpg',\n",
       " '1666.jpg',\n",
       " '1667.jpg',\n",
       " '1668.jpg',\n",
       " '1669.jpg',\n",
       " '167.jpg',\n",
       " '1670.jpg',\n",
       " '1671.jpg',\n",
       " '1672.jpg',\n",
       " '1673.jpg',\n",
       " '1674.jpg',\n",
       " '1675.jpg',\n",
       " '1676.jpg',\n",
       " '1677.jpg',\n",
       " '1678.jpg',\n",
       " '1679.jpg',\n",
       " '168.jpg',\n",
       " '1680.jpg',\n",
       " '1681.jpg',\n",
       " '1682.jpg',\n",
       " '1683.jpg',\n",
       " '1684.jpg',\n",
       " '1685.jpg',\n",
       " '1686.jpg',\n",
       " '1687.jpg',\n",
       " '1688.jpg',\n",
       " '1689.jpg',\n",
       " '169.jpg',\n",
       " '1690.jpg',\n",
       " '1691.jpg',\n",
       " '1692.jpg',\n",
       " '1693.jpg',\n",
       " '1694.jpg',\n",
       " '1695.jpg',\n",
       " '1696.jpg',\n",
       " '1697.jpg',\n",
       " '1698.jpg',\n",
       " '1699.jpg',\n",
       " '17.jpg',\n",
       " '170.jpg',\n",
       " '1700.jpg',\n",
       " '1701.jpg',\n",
       " '1702.jpg',\n",
       " '1703.jpg',\n",
       " '1704.jpg',\n",
       " '1705.jpg',\n",
       " '1706.jpg',\n",
       " '1707.jpg',\n",
       " '1708.jpg',\n",
       " '1709.jpg',\n",
       " '171.jpg',\n",
       " '1710.jpg',\n",
       " '1711.jpg',\n",
       " '1712.jpg',\n",
       " '1713.jpg',\n",
       " '1714.jpg',\n",
       " '1715.jpg',\n",
       " '1716.jpg',\n",
       " '1717.jpg',\n",
       " '1718.jpg',\n",
       " '1719.jpg',\n",
       " '172.jpg',\n",
       " '1720.jpg',\n",
       " '1721.jpg',\n",
       " '1722.jpg',\n",
       " '1723.jpg',\n",
       " '1724.jpg',\n",
       " '1725.jpg',\n",
       " '1726.jpg',\n",
       " '1727.jpg',\n",
       " '1728.jpg',\n",
       " '1729.jpg',\n",
       " '173.jpg',\n",
       " '1730.jpg',\n",
       " '1731.jpg',\n",
       " '1732.jpg',\n",
       " '1733.jpg',\n",
       " '1734.jpg',\n",
       " '1735.jpg',\n",
       " '1736.jpg',\n",
       " '1737.jpg',\n",
       " '1738.jpg',\n",
       " '1739.jpg',\n",
       " '174.jpg',\n",
       " '1740.jpg',\n",
       " '1741.jpg',\n",
       " '1742.jpg',\n",
       " '1743.jpg',\n",
       " '1744.jpg',\n",
       " '1745.jpg',\n",
       " '1746.jpg',\n",
       " '1747.jpg',\n",
       " '1748.jpg',\n",
       " '1749.jpg',\n",
       " '175.jpg',\n",
       " '1750.jpg',\n",
       " '1751.jpg',\n",
       " '1752.jpg',\n",
       " '1753.jpg',\n",
       " '1754.jpg',\n",
       " '1755.jpg',\n",
       " '1756.jpg',\n",
       " '1757.jpg',\n",
       " '1758.jpg',\n",
       " '1759.jpg',\n",
       " '176.jpg',\n",
       " '1760.jpg',\n",
       " '1761.jpg',\n",
       " '1762.jpg',\n",
       " '1763.jpg',\n",
       " '1764.jpg',\n",
       " '1765.jpg',\n",
       " '1766.jpg',\n",
       " '1767.jpg',\n",
       " '1768.jpg',\n",
       " '1769.jpg',\n",
       " '177.jpg',\n",
       " '1770.jpg',\n",
       " '1771.jpg',\n",
       " '1772.jpg',\n",
       " '1773.jpg',\n",
       " '1774.jpg',\n",
       " '1775.jpg',\n",
       " '1776.jpg',\n",
       " '1777.jpg',\n",
       " '1778.jpg',\n",
       " '1779.jpg',\n",
       " '178.jpg',\n",
       " '1780.jpg',\n",
       " '1781.jpg',\n",
       " '1782.jpg',\n",
       " '1783.jpg',\n",
       " '1784.jpg',\n",
       " '1785.jpg',\n",
       " '1786.jpg',\n",
       " '1787.jpg',\n",
       " '1788.jpg',\n",
       " '1789.jpg',\n",
       " '179.jpg',\n",
       " '1790.jpg',\n",
       " '1791.jpg',\n",
       " '1792.jpg',\n",
       " '1793.jpg',\n",
       " '1794.jpg',\n",
       " '1795.jpg',\n",
       " '1796.jpg',\n",
       " '1797.jpg',\n",
       " '1798.jpg',\n",
       " '1799.jpg',\n",
       " '18.jpg',\n",
       " '180.jpg',\n",
       " '1800.jpg',\n",
       " '1801.jpg',\n",
       " '1802.jpg',\n",
       " '1803.jpg',\n",
       " '1804.jpg',\n",
       " '1805.jpg',\n",
       " '1806.jpg',\n",
       " '1807.jpg',\n",
       " '1808.jpg',\n",
       " '1809.jpg',\n",
       " '181.jpg',\n",
       " '1810.jpg',\n",
       " '1811.jpg',\n",
       " '1812.jpg',\n",
       " '1813.jpg',\n",
       " '1814.jpg',\n",
       " '1815.jpg',\n",
       " '1816.jpg',\n",
       " '1817.jpg',\n",
       " '1818.jpg',\n",
       " '1819.jpg',\n",
       " '182.jpg',\n",
       " '1820.jpg',\n",
       " '1821.jpg',\n",
       " '1822.jpg',\n",
       " '1823.jpg',\n",
       " '1824.jpg',\n",
       " '1825.jpg',\n",
       " '1826.jpg',\n",
       " '1827.jpg',\n",
       " '1828.jpg',\n",
       " '1829.jpg',\n",
       " '183.jpg',\n",
       " '1830.jpg',\n",
       " '1831.jpg',\n",
       " '1832.jpg',\n",
       " '1833.jpg',\n",
       " '1834.jpg',\n",
       " '1835.jpg',\n",
       " '1836.jpg',\n",
       " '1837.jpg',\n",
       " '1838.jpg',\n",
       " '1839.jpg',\n",
       " '184.jpg',\n",
       " '1840.jpg',\n",
       " '1841.jpg',\n",
       " '1842.jpg',\n",
       " '1843.jpg',\n",
       " '1844.jpg',\n",
       " '1845.jpg',\n",
       " '1846.jpg',\n",
       " '1847.jpg',\n",
       " '1848.jpg',\n",
       " '1849.jpg',\n",
       " '185.jpg',\n",
       " '1850.jpg',\n",
       " '1851.jpg',\n",
       " '1852.jpg',\n",
       " '1853.jpg',\n",
       " '1854.jpg',\n",
       " '1855.jpg',\n",
       " '1856.jpg',\n",
       " '1857.jpg',\n",
       " '1858.jpg',\n",
       " '1859.jpg',\n",
       " '186.jpg',\n",
       " '1860.jpg',\n",
       " '1861.jpg',\n",
       " '1862.jpg',\n",
       " '1863.jpg',\n",
       " '1864.jpg',\n",
       " '1865.jpg',\n",
       " '1866.jpg',\n",
       " '1867.jpg',\n",
       " '1868.jpg',\n",
       " '1869.jpg',\n",
       " '187.jpg',\n",
       " '1870.jpg',\n",
       " '1871.jpg',\n",
       " '1872.jpg',\n",
       " '1873.jpg',\n",
       " '1874.jpg',\n",
       " '1875.jpg',\n",
       " '1876.jpg',\n",
       " '1877.jpg',\n",
       " '1878.jpg',\n",
       " '1879.jpg',\n",
       " '188.jpg',\n",
       " '1880.jpg',\n",
       " '1881.jpg',\n",
       " '1882.jpg',\n",
       " '1883.jpg',\n",
       " '1884.jpg',\n",
       " '1885.jpg',\n",
       " '1886.jpg',\n",
       " '1887.jpg',\n",
       " '1888.jpg',\n",
       " '1889.jpg',\n",
       " '189.jpg',\n",
       " '1890.jpg',\n",
       " '1891.jpg',\n",
       " '1892.jpg',\n",
       " '1893.jpg',\n",
       " '1894.jpg',\n",
       " '1895.jpg',\n",
       " '1896.jpg',\n",
       " '1897.jpg',\n",
       " '1898.jpg',\n",
       " '1899.jpg',\n",
       " ...]"
      ]
     },
     "execution_count": 11,
     "metadata": {},
     "output_type": "execute_result"
    }
   ],
   "source": [
    "os.listdir('input/train')"
   ]
  },
  {
   "cell_type": "markdown",
   "metadata": {
    "colab_type": "text",
    "id": "y1cB-BtMSohO"
   },
   "source": [
    "## Prepare the Validation dataset\n",
    "Now we will prepare the validation dataset for our models. Here we will separate 200 images of each type, invasive and non-invasive, randomly, into our validation folder. The validation folder has two sub folders, names 'invasive' and 'non-invasive'. Same as our train folder"
   ]
  },
  {
   "cell_type": "code",
   "execution_count": 12,
   "metadata": {
    "colab": {
     "autoexec": {
      "startup": false,
      "wait_interval": 0
     },
     "base_uri": "https://localhost:8080/",
     "height": 51
    },
    "colab_type": "code",
    "executionInfo": {
     "elapsed": 3051,
     "status": "ok",
     "timestamp": 1531667172804,
     "user": {
      "displayName": "Sarthak Sahu",
      "photoUrl": "//lh4.googleusercontent.com/-sCIGEEqtKU8/AAAAAAAAAAI/AAAAAAAAARc/YwR5ZCDBNeY/s50-c-k-no/photo.jpg",
      "userId": "105700230519338199981"
     },
     "user_tz": -330
    },
    "id": "qdiERXZ8RH5m",
    "outputId": "16840c22-1a2c-46fe-960b-dc97e8e06237"
   },
   "outputs": [
    {
     "data": {
      "text/plain": [
       "['.ipynb_checkpoints',\n",
       " 'basic_cnn.ipynb',\n",
       " 'download',\n",
       " 'Download_dataset_and_arrange.ipynb',\n",
       " 'improved_cnn.ipynb',\n",
       " 'input',\n",
       " 'preprocessing_and_exploration.ipynb']"
      ]
     },
     "execution_count": 12,
     "metadata": {},
     "output_type": "execute_result"
    }
   ],
   "source": [
    "os.listdir()"
   ]
  },
  {
   "cell_type": "code",
   "execution_count": 13,
   "metadata": {
    "colab": {
     "autoexec": {
      "startup": false,
      "wait_interval": 0
     }
    },
    "colab_type": "code",
    "id": "14wsNop5VU6f"
   },
   "outputs": [],
   "source": [
    "import random\n",
    "\n",
    "VALIDATION_INVASIVE = 'input/validation/invasive/'\n",
    "os.mkdir('input/validation/')\n",
    "os.mkdir(VALIDATION_INVASIVE)\n",
    "\n",
    "random.seed(2108)\n",
    "images = random.sample(os.listdir(INVASIVE_DIR),200)\n",
    "\n",
    "try:\n",
    "    for img in images:\n",
    "        PATH = os.path.join(INVASIVE_DIR, img)\n",
    "        shutil.copy2(PATH, VALIDATION_INVASIVE)\n",
    "except:\n",
    "    print(\"Unexpected error. Retry.\")\n",
    "finally:\n",
    "    for img in images:\n",
    "        PATH = os.path.join(INVASIVE_DIR, img)\n",
    "        os.remove(PATH)"
   ]
  },
  {
   "cell_type": "code",
   "execution_count": 14,
   "metadata": {
    "colab": {
     "autoexec": {
      "startup": false,
      "wait_interval": 0
     },
     "base_uri": "https://localhost:8080/",
     "height": 68
    },
    "colab_type": "code",
    "executionInfo": {
     "elapsed": 3749,
     "status": "ok",
     "timestamp": 1531667179596,
     "user": {
      "displayName": "Sarthak Sahu",
      "photoUrl": "//lh4.googleusercontent.com/-sCIGEEqtKU8/AAAAAAAAAAI/AAAAAAAAARc/YwR5ZCDBNeY/s50-c-k-no/photo.jpg",
      "userId": "105700230519338199981"
     },
     "user_tz": -330
    },
    "id": "9aRFr9kYVtvF",
    "outputId": "a723c9c1-f4cc-4fe3-8887-ffc189d5b1c4"
   },
   "outputs": [
    {
     "name": "stdout",
     "output_type": "stream",
     "text": [
      "2095\n",
      "847\n",
      "1248\n"
     ]
    }
   ],
   "source": [
    "print(len(os.listdir(NON_INVASIVE_DIR))+len(os.listdir(INVASIVE_DIR)))\n",
    "print(len(os.listdir(NON_INVASIVE_DIR)))\n",
    "print(len(os.listdir(INVASIVE_DIR)))"
   ]
  },
  {
   "cell_type": "code",
   "execution_count": 15,
   "metadata": {
    "colab": {
     "autoexec": {
      "startup": false,
      "wait_interval": 0
     }
    },
    "colab_type": "code",
    "id": "3lBJrxqBZICR"
   },
   "outputs": [],
   "source": [
    "VALIDATION_NON_INVASIVE = 'input/validation/non-invasive/'\n",
    "os.mkdir(VALIDATION_NON_INVASIVE)\n",
    "random.seed(2108)\n",
    "images = random.sample(os.listdir(NON_INVASIVE_DIR),200)\n",
    "\n",
    "try:\n",
    "    for img in images:\n",
    "        PATH = os.path.join(NON_INVASIVE_DIR, img)\n",
    "        shutil.copy2(PATH, VALIDATION_NON_INVASIVE)\n",
    "except:\n",
    "    print(\"Unexpected error. Retry.\")\n",
    "finally:\n",
    "    for img in images:\n",
    "        PATH = os.path.join(NON_INVASIVE_DIR, img)\n",
    "        os.remove(PATH)"
   ]
  },
  {
   "cell_type": "code",
   "execution_count": 16,
   "metadata": {
    "colab": {
     "autoexec": {
      "startup": false,
      "wait_interval": 0
     },
     "base_uri": "https://localhost:8080/",
     "height": 68
    },
    "colab_type": "code",
    "executionInfo": {
     "elapsed": 1519,
     "status": "ok",
     "timestamp": 1531667182853,
     "user": {
      "displayName": "Sarthak Sahu",
      "photoUrl": "//lh4.googleusercontent.com/-sCIGEEqtKU8/AAAAAAAAAAI/AAAAAAAAARc/YwR5ZCDBNeY/s50-c-k-no/photo.jpg",
      "userId": "105700230519338199981"
     },
     "user_tz": -330
    },
    "id": "uOx34UUoZweD",
    "outputId": "535956a7-d845-4bbf-c39c-7a032c94c738"
   },
   "outputs": [
    {
     "name": "stdout",
     "output_type": "stream",
     "text": [
      "1895\n",
      "647\n",
      "1248\n"
     ]
    }
   ],
   "source": [
    "print(len(os.listdir(NON_INVASIVE_DIR))+len(os.listdir(INVASIVE_DIR)))\n",
    "print(len(os.listdir(NON_INVASIVE_DIR)))\n",
    "print(len(os.listdir(INVASIVE_DIR)))"
   ]
  },
  {
   "cell_type": "code",
   "execution_count": 17,
   "metadata": {
    "colab": {
     "autoexec": {
      "startup": false,
      "wait_interval": 0
     },
     "base_uri": "https://localhost:8080/",
     "height": 68
    },
    "colab_type": "code",
    "executionInfo": {
     "elapsed": 1582,
     "status": "ok",
     "timestamp": 1531667184557,
     "user": {
      "displayName": "Sarthak Sahu",
      "photoUrl": "//lh4.googleusercontent.com/-sCIGEEqtKU8/AAAAAAAAAAI/AAAAAAAAARc/YwR5ZCDBNeY/s50-c-k-no/photo.jpg",
      "userId": "105700230519338199981"
     },
     "user_tz": -330
    },
    "id": "0T4yvsxFZyXB",
    "outputId": "9b0a693a-b4ae-4142-9c16-3e4c52009fc4"
   },
   "outputs": [
    {
     "name": "stdout",
     "output_type": "stream",
     "text": [
      "400\n",
      "200\n",
      "200\n"
     ]
    }
   ],
   "source": [
    "print(len(os.listdir(VALIDATION_INVASIVE))+len(os.listdir(VALIDATION_NON_INVASIVE)))\n",
    "print(len(os.listdir(VALIDATION_INVASIVE)))\n",
    "print(len(os.listdir(VALIDATION_NON_INVASIVE)))"
   ]
  },
  {
   "cell_type": "code",
   "execution_count": 21,
   "metadata": {
    "colab": {
     "autoexec": {
      "startup": false,
      "wait_interval": 0
     }
    },
    "colab_type": "code",
    "id": "ycE7eKj0aDjB"
   },
   "outputs": [],
   "source": [
    "!rm input/train/*.jpg"
   ]
  },
  {
   "cell_type": "code",
   "execution_count": 22,
   "metadata": {
    "colab": {
     "autoexec": {
      "startup": false,
      "wait_interval": 0
     },
     "base_uri": "https://localhost:8080/",
     "height": 34
    },
    "colab_type": "code",
    "executionInfo": {
     "elapsed": 2709,
     "status": "ok",
     "timestamp": 1531667190578,
     "user": {
      "displayName": "Sarthak Sahu",
      "photoUrl": "//lh4.googleusercontent.com/-sCIGEEqtKU8/AAAAAAAAAAI/AAAAAAAAARc/YwR5ZCDBNeY/s50-c-k-no/photo.jpg",
      "userId": "105700230519338199981"
     },
     "user_tz": -330
    },
    "id": "THZp0xddXZaB",
    "outputId": "44741f3d-8e53-4606-a866-c2e27774b047"
   },
   "outputs": [
    {
     "data": {
      "text/plain": [
       "['invasive', 'non-invasive']"
      ]
     },
     "execution_count": 22,
     "metadata": {},
     "output_type": "execute_result"
    }
   ],
   "source": [
    "os.listdir('input/train')"
   ]
  },
  {
   "cell_type": "code",
   "execution_count": 23,
   "metadata": {
    "colab": {
     "autoexec": {
      "startup": false,
      "wait_interval": 0
     }
    },
    "colab_type": "code",
    "collapsed": true,
    "id": "AIe3sRlHXaEZ"
   },
   "outputs": [
    {
     "ename": "FileNotFoundError",
     "evalue": "[WinError 2] The system cannot find the file specified: 'input/test/test'",
     "output_type": "error",
     "traceback": [
      "\u001b[1;31m---------------------------------------------------------------------------\u001b[0m",
      "\u001b[1;31mFileNotFoundError\u001b[0m                         Traceback (most recent call last)",
      "\u001b[1;32m<ipython-input-23-667d39559790>\u001b[0m in \u001b[0;36m<module>\u001b[1;34m()\u001b[0m\n\u001b[1;32m----> 1\u001b[1;33m \u001b[0mos\u001b[0m\u001b[1;33m.\u001b[0m\u001b[0mrmdir\u001b[0m\u001b[1;33m(\u001b[0m\u001b[1;34m'input/test/test'\u001b[0m\u001b[1;33m)\u001b[0m\u001b[1;33m\u001b[0m\u001b[0m\n\u001b[0m",
      "\u001b[1;31mFileNotFoundError\u001b[0m: [WinError 2] The system cannot find the file specified: 'input/test/test'"
     ]
    }
   ],
   "source": [
    "# os.rmdir('input/test/test')"
   ]
  },
  {
   "cell_type": "code",
   "execution_count": 24,
   "metadata": {
    "colab": {
     "autoexec": {
      "startup": false,
      "wait_interval": 0
     }
    },
    "colab_type": "code",
    "collapsed": true,
    "id": "hBCpMXWrJE7k"
   },
   "outputs": [
    {
     "ename": "FileNotFoundError",
     "evalue": "[WinError 2] The system cannot find the file specified: 'input/train/train'",
     "output_type": "error",
     "traceback": [
      "\u001b[1;31m---------------------------------------------------------------------------\u001b[0m",
      "\u001b[1;31mFileNotFoundError\u001b[0m                         Traceback (most recent call last)",
      "\u001b[1;32m<ipython-input-24-78bf658ff080>\u001b[0m in \u001b[0;36m<module>\u001b[1;34m()\u001b[0m\n\u001b[1;32m----> 1\u001b[1;33m \u001b[0mos\u001b[0m\u001b[1;33m.\u001b[0m\u001b[0mrmdir\u001b[0m\u001b[1;33m(\u001b[0m\u001b[1;34m'input/train/train'\u001b[0m\u001b[1;33m)\u001b[0m\u001b[1;33m\u001b[0m\u001b[0m\n\u001b[0m",
      "\u001b[1;31mFileNotFoundError\u001b[0m: [WinError 2] The system cannot find the file specified: 'input/train/train'"
     ]
    }
   ],
   "source": [
    "# os.rmdir('input/train/train')"
   ]
  },
  {
   "cell_type": "code",
   "execution_count": 0,
   "metadata": {
    "colab": {
     "autoexec": {
      "startup": false,
      "wait_interval": 0
     }
    },
    "colab_type": "code",
    "id": "g4gQPtYbX6ZC"
   },
   "outputs": [],
   "source": []
  }
 ],
 "metadata": {
  "accelerator": "GPU",
  "colab": {
   "collapsed_sections": [],
   "default_view": {},
   "name": "Download-dataset-and-arrange.ipynb",
   "provenance": [],
   "version": "0.3.2",
   "views": {}
  },
  "kernelspec": {
   "display_name": "Python 3",
   "language": "python",
   "name": "python3"
  },
  "language_info": {
   "codemirror_mode": {
    "name": "ipython",
    "version": 3
   },
   "file_extension": ".py",
   "mimetype": "text/x-python",
   "name": "python",
   "nbconvert_exporter": "python",
   "pygments_lexer": "ipython3",
   "version": "3.5.5"
  }
 },
 "nbformat": 4,
 "nbformat_minor": 1
}
